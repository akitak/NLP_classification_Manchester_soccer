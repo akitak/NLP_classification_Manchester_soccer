{
 "cells": [
  {
   "cell_type": "markdown",
   "metadata": {},
   "source": [
    "# Project 3: Web APIs & NLP"
   ]
  },
  {
   "cell_type": "markdown",
   "metadata": {},
   "source": [
    "## Notebook #4: \n",
    "## Classification Model - Random Forest & TFIDF Vectorizer"
   ]
  },
  {
   "cell_type": "code",
   "execution_count": 16,
   "metadata": {},
   "outputs": [],
   "source": [
    "import pandas as pd\n",
    "import numpy as np\n",
    "import matplotlib.pyplot as plt\n",
    "\n",
    "from nltk.corpus import stopwords\n",
    "\n",
    "from sklearn.feature_extraction.text import CountVectorizer, TfidfVectorizer\n",
    "\n",
    "from sklearn.ensemble import RandomForestClassifier, ExtraTreesClassifier\n",
    "from sklearn.model_selection import cross_val_score, train_test_split, GridSearchCV\n",
    "\n",
    "from sklearn.metrics import confusion_matrix, ConfusionMatrixDisplay"
   ]
  },
  {
   "cell_type": "code",
   "execution_count": 2,
   "metadata": {},
   "outputs": [],
   "source": [
    "submissions = pd.read_csv('./data/submissions_model.csv').drop('Unnamed: 0', axis=1)"
   ]
  },
  {
   "cell_type": "code",
   "execution_count": 3,
   "metadata": {},
   "outputs": [
    {
     "data": {
      "text/html": [
       "<div>\n",
       "<style scoped>\n",
       "    .dataframe tbody tr th:only-of-type {\n",
       "        vertical-align: middle;\n",
       "    }\n",
       "\n",
       "    .dataframe tbody tr th {\n",
       "        vertical-align: top;\n",
       "    }\n",
       "\n",
       "    .dataframe thead th {\n",
       "        text-align: right;\n",
       "    }\n",
       "</style>\n",
       "<table border=\"1\" class=\"dataframe\">\n",
       "  <thead>\n",
       "    <tr style=\"text-align: right;\">\n",
       "      <th></th>\n",
       "      <th>author</th>\n",
       "      <th>text</th>\n",
       "      <th>created</th>\n",
       "      <th>subreddit</th>\n",
       "      <th>text_tokenized</th>\n",
       "      <th>text_lemmatized</th>\n",
       "      <th>sentiment</th>\n",
       "      <th>sentiment_compound</th>\n",
       "    </tr>\n",
       "  </thead>\n",
       "  <tbody>\n",
       "    <tr>\n",
       "      <th>0</th>\n",
       "      <td>jeremyparnaby</td>\n",
       "      <td>Grealish should be joining within the week: Ka...</td>\n",
       "      <td>2021-07-24 22:34:33</td>\n",
       "      <td>1</td>\n",
       "      <td>['Grealish', 'should', 'be', 'joining', 'withi...</td>\n",
       "      <td>['Grealish', 'should', 'be', 'joining', 'withi...</td>\n",
       "      <td>{'neg': 0.0, 'neu': 1.0, 'pos': 0.0, 'compound...</td>\n",
       "      <td>0.0</td>\n",
       "    </tr>\n",
       "    <tr>\n",
       "      <th>1</th>\n",
       "      <td>UneducatedSlob</td>\n",
       "      <td>How many of them can you name?:</td>\n",
       "      <td>2021-07-24 18:58:06</td>\n",
       "      <td>1</td>\n",
       "      <td>['How', 'many', 'of', 'them', 'can', 'you', 'n...</td>\n",
       "      <td>['How', 'many', 'of', 'them', 'can', 'you', 'n...</td>\n",
       "      <td>{'neg': 0.0, 'neu': 1.0, 'pos': 0.0, 'compound...</td>\n",
       "      <td>0.0</td>\n",
       "    </tr>\n",
       "    <tr>\n",
       "      <th>2</th>\n",
       "      <td>_conjohn</td>\n",
       "      <td>Awww shit, here we go again: [Nick Harris] Whe...</td>\n",
       "      <td>2021-07-24 18:34:04</td>\n",
       "      <td>1</td>\n",
       "      <td>['Awww', 'shit', 'here', 'we', 'go', 'again', ...</td>\n",
       "      <td>['Awww', 'shit', 'here', 'we', 'go', 'again', ...</td>\n",
       "      <td>{'neg': 0.0, 'neu': 1.0, 'pos': 0.0, 'compound...</td>\n",
       "      <td>0.0</td>\n",
       "    </tr>\n",
       "    <tr>\n",
       "      <th>3</th>\n",
       "      <td>AutoModerator</td>\n",
       "      <td>[Daily Discussion] Saturday 24 July 2021: This...</td>\n",
       "      <td>2021-07-24 17:00:14</td>\n",
       "      <td>1</td>\n",
       "      <td>['Daily', 'Discussion', 'Saturday', '24', 'Jul...</td>\n",
       "      <td>['Daily', 'Discussion', 'Saturday', '24', 'Jul...</td>\n",
       "      <td>{'neg': 0.0, 'neu': 1.0, 'pos': 0.0, 'compound...</td>\n",
       "      <td>0.0</td>\n",
       "    </tr>\n",
       "    <tr>\n",
       "      <th>4</th>\n",
       "      <td>tquad24</td>\n",
       "      <td>On this day 10 years ago:</td>\n",
       "      <td>2021-07-24 14:49:55</td>\n",
       "      <td>1</td>\n",
       "      <td>['On', 'this', 'day', '10', 'years', 'ago']</td>\n",
       "      <td>['On', 'this', 'day', '10', 'years', 'ago']</td>\n",
       "      <td>{'neg': 0.0, 'neu': 1.0, 'pos': 0.0, 'compound...</td>\n",
       "      <td>0.0</td>\n",
       "    </tr>\n",
       "  </tbody>\n",
       "</table>\n",
       "</div>"
      ],
      "text/plain": [
       "           author                                               text  \\\n",
       "0   jeremyparnaby  Grealish should be joining within the week: Ka...   \n",
       "1  UneducatedSlob                   How many of them can you name?:    \n",
       "2        _conjohn  Awww shit, here we go again: [Nick Harris] Whe...   \n",
       "3   AutoModerator  [Daily Discussion] Saturday 24 July 2021: This...   \n",
       "4         tquad24                         On this day 10 years ago:    \n",
       "\n",
       "               created  subreddit  \\\n",
       "0  2021-07-24 22:34:33          1   \n",
       "1  2021-07-24 18:58:06          1   \n",
       "2  2021-07-24 18:34:04          1   \n",
       "3  2021-07-24 17:00:14          1   \n",
       "4  2021-07-24 14:49:55          1   \n",
       "\n",
       "                                      text_tokenized  \\\n",
       "0  ['Grealish', 'should', 'be', 'joining', 'withi...   \n",
       "1  ['How', 'many', 'of', 'them', 'can', 'you', 'n...   \n",
       "2  ['Awww', 'shit', 'here', 'we', 'go', 'again', ...   \n",
       "3  ['Daily', 'Discussion', 'Saturday', '24', 'Jul...   \n",
       "4        ['On', 'this', 'day', '10', 'years', 'ago']   \n",
       "\n",
       "                                     text_lemmatized  \\\n",
       "0  ['Grealish', 'should', 'be', 'joining', 'withi...   \n",
       "1  ['How', 'many', 'of', 'them', 'can', 'you', 'n...   \n",
       "2  ['Awww', 'shit', 'here', 'we', 'go', 'again', ...   \n",
       "3  ['Daily', 'Discussion', 'Saturday', '24', 'Jul...   \n",
       "4        ['On', 'this', 'day', '10', 'years', 'ago']   \n",
       "\n",
       "                                           sentiment  sentiment_compound  \n",
       "0  {'neg': 0.0, 'neu': 1.0, 'pos': 0.0, 'compound...                 0.0  \n",
       "1  {'neg': 0.0, 'neu': 1.0, 'pos': 0.0, 'compound...                 0.0  \n",
       "2  {'neg': 0.0, 'neu': 1.0, 'pos': 0.0, 'compound...                 0.0  \n",
       "3  {'neg': 0.0, 'neu': 1.0, 'pos': 0.0, 'compound...                 0.0  \n",
       "4  {'neg': 0.0, 'neu': 1.0, 'pos': 0.0, 'compound...                 0.0  "
      ]
     },
     "execution_count": 3,
     "metadata": {},
     "output_type": "execute_result"
    }
   ],
   "source": [
    "submissions.head()"
   ]
  },
  {
   "cell_type": "code",
   "execution_count": 4,
   "metadata": {},
   "outputs": [],
   "source": [
    "X = submissions['text_lemmatized']\n",
    "y = submissions['subreddit']"
   ]
  },
  {
   "cell_type": "code",
   "execution_count": 5,
   "metadata": {},
   "outputs": [],
   "source": [
    "X_train, X_val, y_train, y_val = train_test_split(X, y, random_state = 42, stratify=y)"
   ]
  },
  {
   "cell_type": "code",
   "execution_count": 6,
   "metadata": {},
   "outputs": [],
   "source": [
    "# Instantiate TFIDF Vectorizer object for submissions dataframe\n",
    "tvec = TfidfVectorizer(stop_words='english')"
   ]
  },
  {
   "cell_type": "code",
   "execution_count": 7,
   "metadata": {},
   "outputs": [
    {
     "data": {
      "text/plain": [
       "TfidfVectorizer(stop_words='english')"
      ]
     },
     "execution_count": 7,
     "metadata": {},
     "output_type": "execute_result"
    }
   ],
   "source": [
    "tvec.fit(X_train)"
   ]
  },
  {
   "cell_type": "code",
   "execution_count": 8,
   "metadata": {},
   "outputs": [],
   "source": [
    "X_train = tvec.transform(X_train)"
   ]
  },
  {
   "cell_type": "code",
   "execution_count": 9,
   "metadata": {},
   "outputs": [],
   "source": [
    "# random forest\n",
    "rf = RandomForestClassifier(n_estimators=100)"
   ]
  },
  {
   "cell_type": "code",
   "execution_count": 10,
   "metadata": {},
   "outputs": [
    {
     "data": {
      "text/plain": [
       "0.8874289578840312"
      ]
     },
     "execution_count": 10,
     "metadata": {},
     "output_type": "execute_result"
    }
   ],
   "source": [
    "# cross val random forest\n",
    "cross_val_score(rf, X_train, y_train,cv = 5).mean()"
   ]
  },
  {
   "cell_type": "code",
   "execution_count": 11,
   "metadata": {},
   "outputs": [
    {
     "data": {
      "text/plain": [
       "array([8.28272187e-05, 9.78869339e-05, 0.00000000e+00, ...,\n",
       "       8.10206599e-09, 0.00000000e+00, 1.38418873e-08])"
      ]
     },
     "execution_count": 11,
     "metadata": {},
     "output_type": "execute_result"
    }
   ],
   "source": [
    "# feature importances\n",
    "rf.fit(X_train, y_train)\n",
    "rf.feature_importances_"
   ]
  },
  {
   "cell_type": "code",
   "execution_count": 12,
   "metadata": {},
   "outputs": [
    {
     "data": {
      "text/plain": [
       "0.992079023390178"
      ]
     },
     "execution_count": 12,
     "metadata": {},
     "output_type": "execute_result"
    }
   ],
   "source": [
    "# train score\n",
    "rf.score(X_train, y_train)"
   ]
  },
  {
   "cell_type": "code",
   "execution_count": 13,
   "metadata": {},
   "outputs": [],
   "source": [
    "X_val = tvec.transform(X_val)"
   ]
  },
  {
   "cell_type": "code",
   "execution_count": 14,
   "metadata": {},
   "outputs": [
    {
     "data": {
      "text/plain": [
       "0.8866967530652182"
      ]
     },
     "execution_count": 14,
     "metadata": {},
     "output_type": "execute_result"
    }
   ],
   "source": [
    "# test score\n",
    "rf.score(X_val, y_val)"
   ]
  },
  {
   "cell_type": "code",
   "execution_count": 17,
   "metadata": {},
   "outputs": [],
   "source": [
    "# Get predictions\n",
    "preds = rf.predict(X_train)\n",
    "\n",
    "# Save confusion matrix values\n",
    "cm = confusion_matrix(y_train, preds)\n",
    "tn, fp, fn, tp = cm.ravel()"
   ]
  },
  {
   "cell_type": "code",
   "execution_count": 18,
   "metadata": {},
   "outputs": [
    {
     "data": {
      "image/png": "[encoded data removed]",
      "text/plain": [
       "<Figure size 432x288 with 2 Axes>"
      ]
     },
     "metadata": {
      "needs_background": "light"
     },
     "output_type": "display_data"
    }
   ],
   "source": [
    "# View confusion matrix\n",
    "\n",
    "ConfusionMatrixDisplay(cm).plot();\n"
   ]
  },
  {
   "cell_type": "code",
   "execution_count": 19,
   "metadata": {},
   "outputs": [],
   "source": [
    "# Get predictions\n",
    "preds = rf.predict(X_val)\n",
    "\n",
    "# Save confusion matrix values\n",
    "cm = confusion_matrix(y_val, preds)\n",
    "tn, fp, fn, tp = cm.ravel()"
   ]
  },
  {
   "cell_type": "code",
   "execution_count": 20,
   "metadata": {},
   "outputs": [
    {
     "data": {
      "image/png": "[encoded data removed]",
      "text/plain": [
       "<Figure size 432x288 with 2 Axes>"
      ]
     },
     "metadata": {
      "needs_background": "light"
     },
     "output_type": "display_data"
    }
   ],
   "source": [
    "# View confusion matrix\n",
    "\n",
    "ConfusionMatrixDisplay(cm).plot();\n"
   ]
  },
  {
   "cell_type": "code",
   "execution_count": 21,
   "metadata": {},
   "outputs": [],
   "source": [
    "# Accuracy\n",
    "accuracy = (tp + tn) / (tn + fp + fn + tp)\n",
    "\n",
    "# What is the test specificity of our model?\n",
    "spec = tn / (tn + fp)\n",
    "\n",
    "#Sensitivity\n",
    "sens = tp / (tp + fn)\n",
    "\n",
    "# By hand\n",
    "prec = tp / (tp + fp)"
   ]
  },
  {
   "cell_type": "code",
   "execution_count": 22,
   "metadata": {},
   "outputs": [
    {
     "data": {
      "text/plain": [
       "0.8866967530652182"
      ]
     },
     "execution_count": 22,
     "metadata": {},
     "output_type": "execute_result"
    }
   ],
   "source": [
    "accuracy"
   ]
  },
  {
   "cell_type": "code",
   "execution_count": 23,
   "metadata": {},
   "outputs": [
    {
     "data": {
      "text/plain": [
       "0.8625149700598802"
      ]
     },
     "execution_count": 23,
     "metadata": {},
     "output_type": "execute_result"
    }
   ],
   "source": [
    "spec"
   ]
  },
  {
   "cell_type": "code",
   "execution_count": 24,
   "metadata": {},
   "outputs": [
    {
     "data": {
      "text/plain": [
       "0.9108997922326993"
      ]
     },
     "execution_count": 24,
     "metadata": {},
     "output_type": "execute_result"
    }
   ],
   "source": [
    "sens"
   ]
  },
  {
   "cell_type": "code",
   "execution_count": 25,
   "metadata": {},
   "outputs": [
    {
     "data": {
      "text/plain": [
       "0.8687600030485482"
      ]
     },
     "execution_count": 25,
     "metadata": {},
     "output_type": "execute_result"
    }
   ],
   "source": [
    "prec"
   ]
  },
  {
   "cell_type": "code",
   "execution_count": null,
   "metadata": {},
   "outputs": [],
   "source": []
  }
 ],
 "metadata": {
  "kernelspec": {
   "display_name": "Python 3",
   "language": "python",
   "name": "python3"
  },
  "language_info": {
   "codemirror_mode": {
    "name": "ipython",
    "version": 3
   },
   "file_extension": ".py",
   "mimetype": "text/x-python",
   "name": "python",
   "nbconvert_exporter": "python",
   "pygments_lexer": "ipython3",
   "version": "3.8.5"
  }
 },
 "nbformat": 4,
 "nbformat_minor": 4
}
