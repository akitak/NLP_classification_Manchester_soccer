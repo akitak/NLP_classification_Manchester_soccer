{
 "cells": [
  {
   "cell_type": "markdown",
   "metadata": {},
   "source": [
    "# Project 3: Web APIs & NLP"
   ]
  },
  {
   "cell_type": "markdown",
   "metadata": {},
   "source": [
    "## Notebook #6: \n",
    "## Classification Model - Naive Bayes Models (Count Vectorizer + TFIDF Vectorizer) - \n",
    "### Attempted Removal of Name of Subreddits from strings"
   ]
  },
  {
   "cell_type": "code",
   "execution_count": 1,
   "metadata": {},
   "outputs": [],
   "source": [
    "# imports\n",
    "import pandas as pd\n",
    "import matplotlib.pyplot as plt\n",
    "from sklearn.model_selection import train_test_split, GridSearchCV\n",
    "from sklearn.pipeline import Pipeline\n",
    "from sklearn.naive_bayes import MultinomialNB, BernoulliNB\n",
    "from sklearn.linear_model import LogisticRegression\n",
    "from sklearn.metrics import confusion_matrix, ConfusionMatrixDisplay\n",
    "\n",
    "# Import CountVectorizer and TFIDFVectorizer from feature_extraction.text.\n",
    "from sklearn.feature_extraction.text import CountVectorizer, TfidfVectorizer\n",
    "\n",
    "from nltk.corpus import stopwords"
   ]
  },
  {
   "cell_type": "code",
   "execution_count": 2,
   "metadata": {},
   "outputs": [],
   "source": [
    "submissions = pd.read_csv('./data/submissions_model.csv').drop('Unnamed: 0', axis=1)"
   ]
  },
  {
   "cell_type": "code",
   "execution_count": 3,
   "metadata": {},
   "outputs": [
    {
     "data": {
      "text/html": [
       "<div>\n",
       "<style scoped>\n",
       "    .dataframe tbody tr th:only-of-type {\n",
       "        vertical-align: middle;\n",
       "    }\n",
       "\n",
       "    .dataframe tbody tr th {\n",
       "        vertical-align: top;\n",
       "    }\n",
       "\n",
       "    .dataframe thead th {\n",
       "        text-align: right;\n",
       "    }\n",
       "</style>\n",
       "<table border=\"1\" class=\"dataframe\">\n",
       "  <thead>\n",
       "    <tr style=\"text-align: right;\">\n",
       "      <th></th>\n",
       "      <th>author</th>\n",
       "      <th>text</th>\n",
       "      <th>created</th>\n",
       "      <th>subreddit</th>\n",
       "      <th>text_tokenized</th>\n",
       "      <th>text_lemmatized</th>\n",
       "      <th>sentiment</th>\n",
       "      <th>sentiment_compound</th>\n",
       "    </tr>\n",
       "  </thead>\n",
       "  <tbody>\n",
       "    <tr>\n",
       "      <th>0</th>\n",
       "      <td>jeremyparnaby</td>\n",
       "      <td>Grealish should be joining within the week: Ka...</td>\n",
       "      <td>2021-07-24 22:34:33</td>\n",
       "      <td>1</td>\n",
       "      <td>['Grealish', 'should', 'be', 'joining', 'withi...</td>\n",
       "      <td>['Grealish', 'should', 'be', 'joining', 'withi...</td>\n",
       "      <td>{'neg': 0.0, 'neu': 1.0, 'pos': 0.0, 'compound...</td>\n",
       "      <td>0.0</td>\n",
       "    </tr>\n",
       "    <tr>\n",
       "      <th>1</th>\n",
       "      <td>UneducatedSlob</td>\n",
       "      <td>How many of them can you name?:</td>\n",
       "      <td>2021-07-24 18:58:06</td>\n",
       "      <td>1</td>\n",
       "      <td>['How', 'many', 'of', 'them', 'can', 'you', 'n...</td>\n",
       "      <td>['How', 'many', 'of', 'them', 'can', 'you', 'n...</td>\n",
       "      <td>{'neg': 0.0, 'neu': 1.0, 'pos': 0.0, 'compound...</td>\n",
       "      <td>0.0</td>\n",
       "    </tr>\n",
       "    <tr>\n",
       "      <th>2</th>\n",
       "      <td>_conjohn</td>\n",
       "      <td>Awww shit, here we go again: [Nick Harris] Whe...</td>\n",
       "      <td>2021-07-24 18:34:04</td>\n",
       "      <td>1</td>\n",
       "      <td>['Awww', 'shit', 'here', 'we', 'go', 'again', ...</td>\n",
       "      <td>['Awww', 'shit', 'here', 'we', 'go', 'again', ...</td>\n",
       "      <td>{'neg': 0.0, 'neu': 1.0, 'pos': 0.0, 'compound...</td>\n",
       "      <td>0.0</td>\n",
       "    </tr>\n",
       "    <tr>\n",
       "      <th>3</th>\n",
       "      <td>AutoModerator</td>\n",
       "      <td>[Daily Discussion] Saturday 24 July 2021: This...</td>\n",
       "      <td>2021-07-24 17:00:14</td>\n",
       "      <td>1</td>\n",
       "      <td>['Daily', 'Discussion', 'Saturday', '24', 'Jul...</td>\n",
       "      <td>['Daily', 'Discussion', 'Saturday', '24', 'Jul...</td>\n",
       "      <td>{'neg': 0.0, 'neu': 1.0, 'pos': 0.0, 'compound...</td>\n",
       "      <td>0.0</td>\n",
       "    </tr>\n",
       "    <tr>\n",
       "      <th>4</th>\n",
       "      <td>tquad24</td>\n",
       "      <td>On this day 10 years ago:</td>\n",
       "      <td>2021-07-24 14:49:55</td>\n",
       "      <td>1</td>\n",
       "      <td>['On', 'this', 'day', '10', 'years', 'ago']</td>\n",
       "      <td>['On', 'this', 'day', '10', 'years', 'ago']</td>\n",
       "      <td>{'neg': 0.0, 'neu': 1.0, 'pos': 0.0, 'compound...</td>\n",
       "      <td>0.0</td>\n",
       "    </tr>\n",
       "  </tbody>\n",
       "</table>\n",
       "</div>"
      ],
      "text/plain": [
       "           author                                               text  \\\n",
       "0   jeremyparnaby  Grealish should be joining within the week: Ka...   \n",
       "1  UneducatedSlob                   How many of them can you name?:    \n",
       "2        _conjohn  Awww shit, here we go again: [Nick Harris] Whe...   \n",
       "3   AutoModerator  [Daily Discussion] Saturday 24 July 2021: This...   \n",
       "4         tquad24                         On this day 10 years ago:    \n",
       "\n",
       "               created  subreddit  \\\n",
       "0  2021-07-24 22:34:33          1   \n",
       "1  2021-07-24 18:58:06          1   \n",
       "2  2021-07-24 18:34:04          1   \n",
       "3  2021-07-24 17:00:14          1   \n",
       "4  2021-07-24 14:49:55          1   \n",
       "\n",
       "                                      text_tokenized  \\\n",
       "0  ['Grealish', 'should', 'be', 'joining', 'withi...   \n",
       "1  ['How', 'many', 'of', 'them', 'can', 'you', 'n...   \n",
       "2  ['Awww', 'shit', 'here', 'we', 'go', 'again', ...   \n",
       "3  ['Daily', 'Discussion', 'Saturday', '24', 'Jul...   \n",
       "4        ['On', 'this', 'day', '10', 'years', 'ago']   \n",
       "\n",
       "                                     text_lemmatized  \\\n",
       "0  ['Grealish', 'should', 'be', 'joining', 'withi...   \n",
       "1  ['How', 'many', 'of', 'them', 'can', 'you', 'n...   \n",
       "2  ['Awww', 'shit', 'here', 'we', 'go', 'again', ...   \n",
       "3  ['Daily', 'Discussion', 'Saturday', '24', 'Jul...   \n",
       "4        ['On', 'this', 'day', '10', 'years', 'ago']   \n",
       "\n",
       "                                           sentiment  sentiment_compound  \n",
       "0  {'neg': 0.0, 'neu': 1.0, 'pos': 0.0, 'compound...                 0.0  \n",
       "1  {'neg': 0.0, 'neu': 1.0, 'pos': 0.0, 'compound...                 0.0  \n",
       "2  {'neg': 0.0, 'neu': 1.0, 'pos': 0.0, 'compound...                 0.0  \n",
       "3  {'neg': 0.0, 'neu': 1.0, 'pos': 0.0, 'compound...                 0.0  \n",
       "4  {'neg': 0.0, 'neu': 1.0, 'pos': 0.0, 'compound...                 0.0  "
      ]
     },
     "execution_count": 3,
     "metadata": {},
     "output_type": "execute_result"
    }
   ],
   "source": [
    "submissions.head()"
   ]
  },
  {
   "cell_type": "code",
   "execution_count": 4,
   "metadata": {},
   "outputs": [],
   "source": [
    "X = submissions['text_lemmatized']\n",
    "y = submissions['subreddit']"
   ]
  },
  {
   "cell_type": "code",
   "execution_count": 5,
   "metadata": {},
   "outputs": [],
   "source": [
    "X_train, X_test, y_train, y_test = train_test_split(X, y, random_state = 42, stratify=y)"
   ]
  },
  {
   "cell_type": "code",
   "execution_count": 6,
   "metadata": {},
   "outputs": [],
   "source": [
    "pipe_1 = Pipeline([\n",
    "    ('cvec', CountVectorizer(stop_words='english')),\n",
    "    ('nb', BernoulliNB())\n",
    "])"
   ]
  },
  {
   "cell_type": "code",
   "execution_count": 7,
   "metadata": {},
   "outputs": [],
   "source": [
    "pipe_params_1 = {\n",
    "    'cvec__max_features':[2_000, 3_000, 4_000, 5_000],\n",
    "    'cvec__min_df'      :[2,3],\n",
    "    'cvec__max_df'      :[.9, .95],\n",
    "    'cvec__ngram_range' :[(1,1),(1,2)]\n",
    "}"
   ]
  },
  {
   "cell_type": "code",
   "execution_count": 8,
   "metadata": {},
   "outputs": [],
   "source": [
    "# Instantiate GridSearchCV.\n",
    "gs_1 = GridSearchCV(pipe_1, param_grid=pipe_params_1, cv=5)"
   ]
  },
  {
   "cell_type": "code",
   "execution_count": 9,
   "metadata": {},
   "outputs": [
    {
     "data": {
      "text/plain": [
       "GridSearchCV(cv=5,\n",
       "             estimator=Pipeline(steps=[('cvec',\n",
       "                                        CountVectorizer(stop_words='english')),\n",
       "                                       ('nb', BernoulliNB())]),\n",
       "             param_grid={'cvec__max_df': [0.9, 0.95],\n",
       "                         'cvec__max_features': [2000, 3000, 4000, 5000],\n",
       "                         'cvec__min_df': [2, 3],\n",
       "                         'cvec__ngram_range': [(1, 1), (1, 2)]})"
      ]
     },
     "execution_count": 9,
     "metadata": {},
     "output_type": "execute_result"
    }
   ],
   "source": [
    "# Fit GridSearch to training data.\n",
    "gs_1.fit(X_train, y_train)"
   ]
  },
  {
   "cell_type": "code",
   "execution_count": 10,
   "metadata": {},
   "outputs": [
    {
     "data": {
      "text/plain": [
       "0.8757804491659678"
      ]
     },
     "execution_count": 10,
     "metadata": {},
     "output_type": "execute_result"
    }
   ],
   "source": [
    "# Score model on training set.\n",
    "gs_1.score(X_train, y_train)"
   ]
  },
  {
   "cell_type": "code",
   "execution_count": 11,
   "metadata": {},
   "outputs": [
    {
     "data": {
      "text/plain": [
       "0.8689244778146092"
      ]
     },
     "execution_count": 11,
     "metadata": {},
     "output_type": "execute_result"
    }
   ],
   "source": [
    "# Score model on testing set.\n",
    "gs_1.score(X_test, y_test)"
   ]
  },
  {
   "cell_type": "code",
   "execution_count": 12,
   "metadata": {},
   "outputs": [],
   "source": [
    "# Get predictions\n",
    "preds_1 = gs_1.predict(X_train)\n",
    "\n",
    "# Save confusion matrix values\n",
    "cm_1 = confusion_matrix(y_train, preds_1)\n",
    "tn_1, fp_1, fn_1, tp_1 = cm_1.ravel()"
   ]
  },
  {
   "cell_type": "code",
   "execution_count": 13,
   "metadata": {},
   "outputs": [
    {
     "data": {
      "image/png": "[encoded data removed]",
      "text/plain": [
       "<Figure size 432x288 with 2 Axes>"
      ]
     },
     "metadata": {
      "needs_background": "light"
     },
     "output_type": "display_data"
    }
   ],
   "source": [
    "# View confusion matrix\n",
    "\n",
    "ConfusionMatrixDisplay(cm_1).plot();\n",
    "plt.title('Confusion Matrix - Count Vectorizer + Naive Bayes Model Training Data');"
   ]
  },
  {
   "cell_type": "code",
   "execution_count": 14,
   "metadata": {},
   "outputs": [],
   "source": [
    "# Get predictions\n",
    "preds_2 = gs_1.predict(X_test)\n",
    "\n",
    "# Save confusion matrix values\n",
    "cm_2 = confusion_matrix(y_test, preds_2)\n",
    "tn, fp, fn, tp = cm_2.ravel()"
   ]
  },
  {
   "cell_type": "code",
   "execution_count": 15,
   "metadata": {},
   "outputs": [
    {
     "data": {
      "image/png": "[encoded data removed]",
      "text/plain": [
       "<Figure size 432x288 with 2 Axes>"
      ]
     },
     "metadata": {
      "needs_background": "light"
     },
     "output_type": "display_data"
    }
   ],
   "source": [
    "# View confusion matrix\n",
    "\n",
    "ConfusionMatrixDisplay(cm_2).plot();\n",
    "plt.title('Confusion Matrix - Count Vectorizer + Naive Bayes Model Testing Data');"
   ]
  },
  {
   "cell_type": "markdown",
   "metadata": {},
   "source": []
  },
  {
   "cell_type": "code",
   "execution_count": 16,
   "metadata": {},
   "outputs": [],
   "source": [
    "pipe_2 = Pipeline([\n",
    "    ('tvec', TfidfVectorizer(stop_words='english')),\n",
    "    ('nb', BernoulliNB())\n",
    "])"
   ]
  },
  {
   "cell_type": "code",
   "execution_count": 17,
   "metadata": {},
   "outputs": [],
   "source": [
    "pipe_params_2 = {\n",
    "    'tvec__max_features':[2_000, 3_000, 4_000, 5_000],\n",
    "    'tvec__min_df'      :[2,3],\n",
    "    'tvec__max_df'      :[.9, .95],\n",
    "    'tvec__ngram_range' :[(1,1),(1,2)]\n",
    "}"
   ]
  },
  {
   "cell_type": "code",
   "execution_count": 18,
   "metadata": {},
   "outputs": [],
   "source": [
    "# Instantiate GridSearchCV.\n",
    "gs_2 = GridSearchCV(pipe_2, param_grid=pipe_params_2, cv=5)"
   ]
  },
  {
   "cell_type": "code",
   "execution_count": 19,
   "metadata": {},
   "outputs": [
    {
     "data": {
      "text/plain": [
       "GridSearchCV(cv=5,\n",
       "             estimator=Pipeline(steps=[('tvec',\n",
       "                                        TfidfVectorizer(stop_words='english')),\n",
       "                                       ('nb', BernoulliNB())]),\n",
       "             param_grid={'tvec__max_df': [0.9, 0.95],\n",
       "                         'tvec__max_features': [2000, 3000, 4000, 5000],\n",
       "                         'tvec__min_df': [2, 3],\n",
       "                         'tvec__ngram_range': [(1, 1), (1, 2)]})"
      ]
     },
     "execution_count": 19,
     "metadata": {},
     "output_type": "execute_result"
    }
   ],
   "source": [
    "# Fit GridSearch to training data.\n",
    "gs_2.fit(X_train, y_train)"
   ]
  },
  {
   "cell_type": "code",
   "execution_count": 20,
   "metadata": {},
   "outputs": [
    {
     "data": {
      "text/plain": [
       "0.8757804491659678"
      ]
     },
     "execution_count": 20,
     "metadata": {},
     "output_type": "execute_result"
    }
   ],
   "source": [
    "# Score model on training set.\n",
    "gs_2.score(X_train, y_train)"
   ]
  },
  {
   "cell_type": "code",
   "execution_count": 21,
   "metadata": {},
   "outputs": [
    {
     "data": {
      "text/plain": [
       "0.8689244778146092"
      ]
     },
     "execution_count": 21,
     "metadata": {},
     "output_type": "execute_result"
    }
   ],
   "source": [
    "# Score model on testing set.\n",
    "gs_2.score(X_test, y_test)"
   ]
  },
  {
   "cell_type": "code",
   "execution_count": 23,
   "metadata": {},
   "outputs": [],
   "source": [
    "# Get predictions\n",
    "preds_3 = gs_2.predict(X_train)\n",
    "\n",
    "# Save confusion matrix values\n",
    "cm_3 = confusion_matrix(y_train, preds_3)\n",
    "tn_3, fp_3, fn_3, tp_3 = cm_3.ravel()"
   ]
  },
  {
   "cell_type": "code",
   "execution_count": 24,
   "metadata": {},
   "outputs": [
    {
     "data": {
      "image/png": "[encoded data removed]",
      "text/plain": [
       "<Figure size 432x288 with 2 Axes>"
      ]
     },
     "metadata": {
      "needs_background": "light"
     },
     "output_type": "display_data"
    }
   ],
   "source": [
    "# View confusion matrix\n",
    "\n",
    "ConfusionMatrixDisplay(cm_3).plot();\n",
    "plt.title('Confusion Matrix - TFIDF Vectorizer + Naive Bayes Model Training Data');"
   ]
  },
  {
   "cell_type": "code",
   "execution_count": 25,
   "metadata": {},
   "outputs": [],
   "source": [
    "# Get predictions\n",
    "preds_4 = gs_2.predict(X_test)\n",
    "\n",
    "# Save confusion matrix values\n",
    "cm_4 = confusion_matrix(y_test, preds_4)\n",
    "tn_4, fp_4, fn_4, tp_4 = cm_4.ravel()"
   ]
  },
  {
   "cell_type": "code",
   "execution_count": 26,
   "metadata": {},
   "outputs": [
    {
     "data": {
      "image/png": "[encoded data removed]",
      "text/plain": [
       "<Figure size 432x288 with 2 Axes>"
      ]
     },
     "metadata": {
      "needs_background": "light"
     },
     "output_type": "display_data"
    }
   ],
   "source": [
    "# View confusion matrix\n",
    "\n",
    "ConfusionMatrixDisplay(cm_4).plot();\n",
    "plt.title('Confusion Matrix - TFIDF Vectorizer + Naive Bayes Model Testing Data');"
   ]
  },
  {
   "cell_type": "code",
   "execution_count": null,
   "metadata": {},
   "outputs": [],
   "source": []
  }
 ],
 "metadata": {
  "kernelspec": {
   "display_name": "Python 3",
   "language": "python",
   "name": "python3"
  },
  "language_info": {
   "codemirror_mode": {
    "name": "ipython",
    "version": 3
   },
   "file_extension": ".py",
   "mimetype": "text/x-python",
   "name": "python",
   "nbconvert_exporter": "python",
   "pygments_lexer": "ipython3",
   "version": "3.8.5"
  }
 },
 "nbformat": 4,
 "nbformat_minor": 4
}
