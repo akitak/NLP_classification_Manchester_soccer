{
 "cells": [
  {
   "cell_type": "markdown",
   "metadata": {},
   "source": [
    "# Project 3: Web APIs & NLP"
   ]
  },
  {
   "cell_type": "markdown",
   "metadata": {},
   "source": [
    "## Notebook #2: Data Cleaning and Exploratory Data Analysis "
   ]
  },
  {
   "cell_type": "markdown",
   "metadata": {},
   "source": [
    "### Data Cleaning"
   ]
  },
  {
   "cell_type": "code",
   "execution_count": 1,
   "metadata": {},
   "outputs": [],
   "source": [
    "# Importing Libraries for Data Cleaning and EDA\n",
    "import pandas as pd\n",
    "import numpy as np\n",
    "import matplotlib.pyplot as plt\n",
    "import datetime as dt\n",
    "import time\n",
    "\n",
    "from nltk.tokenize import sent_tokenize, word_tokenize, RegexpTokenizer\n",
    "from nltk.stem import WordNetLemmatizer\n",
    "from nltk.stem.porter import PorterStemmer\n",
    "from nltk.corpus import stopwords\n",
    "from nltk.sentiment.vader import SentimentIntensityAnalyzer\n",
    "from nltk import FreqDist, pos_tag\n",
    "import re\n",
    "\n",
    "from sklearn.feature_extraction.text import CountVectorizer, TfidfVectorizer\n"
   ]
  },
  {
   "cell_type": "code",
   "execution_count": 2,
   "metadata": {},
   "outputs": [],
   "source": [
    "# Reading in CSVs that we created during our data collection phase\n",
    "mcfc = pd.read_csv('./data/mcfc.csv')\n",
    "reddevils = pd.read_csv('./data/reddevils.csv')"
   ]
  },
  {
   "cell_type": "code",
   "execution_count": 3,
   "metadata": {},
   "outputs": [
    {
     "data": {
      "text/html": [
       "<div>\n",
       "<style scoped>\n",
       "    .dataframe tbody tr th:only-of-type {\n",
       "        vertical-align: middle;\n",
       "    }\n",
       "\n",
       "    .dataframe tbody tr th {\n",
       "        vertical-align: top;\n",
       "    }\n",
       "\n",
       "    .dataframe thead th {\n",
       "        text-align: right;\n",
       "    }\n",
       "</style>\n",
       "<table border=\"1\" class=\"dataframe\">\n",
       "  <thead>\n",
       "    <tr style=\"text-align: right;\">\n",
       "      <th></th>\n",
       "      <th>Unnamed: 0</th>\n",
       "      <th>title</th>\n",
       "      <th>author</th>\n",
       "      <th>created_utc</th>\n",
       "      <th>subreddit</th>\n",
       "      <th>selftext</th>\n",
       "    </tr>\n",
       "  </thead>\n",
       "  <tbody>\n",
       "    <tr>\n",
       "      <th>0</th>\n",
       "      <td>0.0</td>\n",
       "      <td>Grealish should be joining within the week</td>\n",
       "      <td>jeremyparnaby</td>\n",
       "      <td>1627180473</td>\n",
       "      <td>MCFC</td>\n",
       "      <td>Kane is still up in the air. Plan B on a strik...</td>\n",
       "    </tr>\n",
       "    <tr>\n",
       "      <th>1</th>\n",
       "      <td>1.0</td>\n",
       "      <td>How many of them can you name?</td>\n",
       "      <td>UneducatedSlob</td>\n",
       "      <td>1627167486</td>\n",
       "      <td>MCFC</td>\n",
       "      <td>NaN</td>\n",
       "    </tr>\n",
       "    <tr>\n",
       "      <th>2</th>\n",
       "      <td>2.0</td>\n",
       "      <td>Awww shit, here we go again: [Nick Harris] Whe...</td>\n",
       "      <td>_conjohn</td>\n",
       "      <td>1627166044</td>\n",
       "      <td>MCFC</td>\n",
       "      <td>NaN</td>\n",
       "    </tr>\n",
       "    <tr>\n",
       "      <th>3</th>\n",
       "      <td>3.0</td>\n",
       "      <td>[Daily Discussion] Saturday 24 July 2021</td>\n",
       "      <td>AutoModerator</td>\n",
       "      <td>1627160414</td>\n",
       "      <td>MCFC</td>\n",
       "      <td>This thread is for general discussion and a pl...</td>\n",
       "    </tr>\n",
       "    <tr>\n",
       "      <th>4</th>\n",
       "      <td>4.0</td>\n",
       "      <td>On this day 10 years ago</td>\n",
       "      <td>tquad24</td>\n",
       "      <td>1627152595</td>\n",
       "      <td>MCFC</td>\n",
       "      <td>NaN</td>\n",
       "    </tr>\n",
       "  </tbody>\n",
       "</table>\n",
       "</div>"
      ],
      "text/plain": [
       "   Unnamed: 0                                              title  \\\n",
       "0         0.0         Grealish should be joining within the week   \n",
       "1         1.0                     How many of them can you name?   \n",
       "2         2.0  Awww shit, here we go again: [Nick Harris] Whe...   \n",
       "3         3.0           [Daily Discussion] Saturday 24 July 2021   \n",
       "4         4.0                           On this day 10 years ago   \n",
       "\n",
       "           author  created_utc subreddit  \\\n",
       "0   jeremyparnaby   1627180473      MCFC   \n",
       "1  UneducatedSlob   1627167486      MCFC   \n",
       "2        _conjohn   1627166044      MCFC   \n",
       "3   AutoModerator   1627160414      MCFC   \n",
       "4         tquad24   1627152595      MCFC   \n",
       "\n",
       "                                            selftext  \n",
       "0  Kane is still up in the air. Plan B on a strik...  \n",
       "1                                                NaN  \n",
       "2                                                NaN  \n",
       "3  This thread is for general discussion and a pl...  \n",
       "4                                                NaN  "
      ]
     },
     "execution_count": 3,
     "metadata": {},
     "output_type": "execute_result"
    }
   ],
   "source": [
    "# Viewing first 5 rows for mcfc dataframe\n",
    "mcfc.head()"
   ]
  },
  {
   "cell_type": "code",
   "execution_count": 4,
   "metadata": {},
   "outputs": [
    {
     "data": {
      "text/html": [
       "<div>\n",
       "<style scoped>\n",
       "    .dataframe tbody tr th:only-of-type {\n",
       "        vertical-align: middle;\n",
       "    }\n",
       "\n",
       "    .dataframe tbody tr th {\n",
       "        vertical-align: top;\n",
       "    }\n",
       "\n",
       "    .dataframe thead th {\n",
       "        text-align: right;\n",
       "    }\n",
       "</style>\n",
       "<table border=\"1\" class=\"dataframe\">\n",
       "  <thead>\n",
       "    <tr style=\"text-align: right;\">\n",
       "      <th></th>\n",
       "      <th>Unnamed: 0</th>\n",
       "      <th>title</th>\n",
       "      <th>author</th>\n",
       "      <th>created_utc</th>\n",
       "      <th>subreddit</th>\n",
       "      <th>selftext</th>\n",
       "    </tr>\n",
       "  </thead>\n",
       "  <tbody>\n",
       "    <tr>\n",
       "      <th>0</th>\n",
       "      <td>0.0</td>\n",
       "      <td>[Transfer Round Up and Discussion] Summer 2021</td>\n",
       "      <td>AutoModerator</td>\n",
       "      <td>1627178414</td>\n",
       "      <td>reddevils</td>\n",
       "      <td>Hello!\\n\\n&amp;amp;#x200B;\\n\\nWelcome to Summer 20...</td>\n",
       "    </tr>\n",
       "    <tr>\n",
       "      <th>1</th>\n",
       "      <td>1.0</td>\n",
       "      <td>[GUARDIAN] Solskjær now has his own Manchester...</td>\n",
       "      <td>agent619</td>\n",
       "      <td>1627178338</td>\n",
       "      <td>reddevils</td>\n",
       "      <td>NaN</td>\n",
       "    </tr>\n",
       "    <tr>\n",
       "      <th>2</th>\n",
       "      <td>2.0</td>\n",
       "      <td>Mason Greenwood likes a post from Harry Pinero...</td>\n",
       "      <td>Dont_Eat_Apples</td>\n",
       "      <td>1627169698</td>\n",
       "      <td>reddevils</td>\n",
       "      <td>NaN</td>\n",
       "    </tr>\n",
       "    <tr>\n",
       "      <th>3</th>\n",
       "      <td>3.0</td>\n",
       "      <td>Ole Gunnar solskjaer In or out</td>\n",
       "      <td>BoxAny8377</td>\n",
       "      <td>1627160971</td>\n",
       "      <td>reddevils</td>\n",
       "      <td>NaN</td>\n",
       "    </tr>\n",
       "    <tr>\n",
       "      <th>4</th>\n",
       "      <td>4.0</td>\n",
       "      <td>Highlights | QPR 4-2 Manchester United | Linga...</td>\n",
       "      <td>AlexMerit</td>\n",
       "      <td>1627159369</td>\n",
       "      <td>reddevils</td>\n",
       "      <td>NaN</td>\n",
       "    </tr>\n",
       "  </tbody>\n",
       "</table>\n",
       "</div>"
      ],
      "text/plain": [
       "   Unnamed: 0                                              title  \\\n",
       "0         0.0     [Transfer Round Up and Discussion] Summer 2021   \n",
       "1         1.0  [GUARDIAN] Solskjær now has his own Manchester...   \n",
       "2         2.0  Mason Greenwood likes a post from Harry Pinero...   \n",
       "3         3.0                     Ole Gunnar solskjaer In or out   \n",
       "4         4.0  Highlights | QPR 4-2 Manchester United | Linga...   \n",
       "\n",
       "            author  created_utc  subreddit  \\\n",
       "0    AutoModerator   1627178414  reddevils   \n",
       "1         agent619   1627178338  reddevils   \n",
       "2  Dont_Eat_Apples   1627169698  reddevils   \n",
       "3       BoxAny8377   1627160971  reddevils   \n",
       "4        AlexMerit   1627159369  reddevils   \n",
       "\n",
       "                                            selftext  \n",
       "0  Hello!\\n\\n&amp;#x200B;\\n\\nWelcome to Summer 20...  \n",
       "1                                                NaN  \n",
       "2                                                NaN  \n",
       "3                                                NaN  \n",
       "4                                                NaN  "
      ]
     },
     "execution_count": 4,
     "metadata": {},
     "output_type": "execute_result"
    }
   ],
   "source": [
    "# Viewing first 5 rows for reddevils dataframe\n",
    "reddevils.head()"
   ]
  },
  {
   "cell_type": "code",
   "execution_count": 5,
   "metadata": {},
   "outputs": [
    {
     "name": "stdout",
     "output_type": "stream",
     "text": [
      "mcfc dataframe shape: (50056, 6)\n",
      "We collected 50056 posts from the mcfc subreddit via web scraping using the PushShift API.\n",
      "\n",
      "reddevils dataframe shape: (50100, 6)\n",
      "We collected 50100 posts from the reddevils subreddit via web scraping using the PushShift API.\n"
     ]
    }
   ],
   "source": [
    "# Checking shape of each dataframe\n",
    "print(f'mcfc dataframe shape: {mcfc.shape}')\n",
    "print(f'We collected {mcfc.shape[0]} posts from the mcfc subreddit via web scraping using the PushShift API.\\n')\n",
    "print(f'reddevils dataframe shape: {reddevils.shape}')\n",
    "print(f'We collected {reddevils.shape[0]} posts from the reddevils subreddit via web scraping using the PushShift API.')"
   ]
  },
  {
   "cell_type": "code",
   "execution_count": 6,
   "metadata": {},
   "outputs": [],
   "source": [
    "# Dropping 'Unnamed: 0' column in both dataframes\n",
    "mcfc.drop('Unnamed: 0', axis=1, inplace=True)\n",
    "reddevils.drop('Unnamed: 0', axis=1, inplace=True)"
   ]
  },
  {
   "cell_type": "code",
   "execution_count": 7,
   "metadata": {},
   "outputs": [],
   "source": [
    "# Converting 'created_utc' unix time entries into date and time entries and creating a 'created' column\n",
    "# Inspiration for the below code was taken from Stackoverflow:\n",
    "# https://stackoverflow.com/questions/48416511/how-to-convert-utc-to-est-with-python-and-take-care-of-daylight-saving-automatic\n",
    "\n",
    "mcfc['created'] = mcfc['created_utc'].apply(dt.datetime.fromtimestamp)\n",
    "reddevils['created'] = reddevils['created_utc'].apply(dt.datetime.fromtimestamp)"
   ]
  },
  {
   "cell_type": "code",
   "execution_count": 8,
   "metadata": {},
   "outputs": [
    {
     "name": "stdout",
     "output_type": "stream",
     "text": [
      "Earliest post for mcfc: 2016-02-12 08:12:26\n",
      "Most recent post for mcfc: 2021-07-24 22:34:33\n",
      "\n",
      "Earliest post for reddevils: 2019-10-21 04:15:09\n",
      "Most recent post for reddevils: 2021-07-24 22:00:14\n"
     ]
    }
   ],
   "source": [
    "# After creating a new 'created' column with the date in a more understandable format,\n",
    "# I will print the earliest post and latest post dates for each dataframe\n",
    "\n",
    "# The results will follow in next cell.\n",
    "print(f\"Earliest post for mcfc: {mcfc['created'].min()}\")\n",
    "print(f\"Most recent post for mcfc: {mcfc['created'].max()}\\n\")\n",
    "print(f\"Earliest post for reddevils: {reddevils['created'].min()}\")\n",
    "print(f\"Most recent post for reddevils: {reddevils['created'].max()}\")"
   ]
  },
  {
   "cell_type": "code",
   "execution_count": 9,
   "metadata": {},
   "outputs": [],
   "source": [
    "# Given the above output, we can summarize that the earliest post was in February 2016, \n",
    "# and the most recent post was on July 24, 2021. (This makes sense because I collected the data on July 24)\n",
    "\n",
    "# I will create a new categorical variable column titled 'year'. \n",
    "\n",
    "# Inspiration for the dt.year was taken from the below\n",
    "# https://pandas.pydata.org/docs/reference/api/pandas.Series.dt.year.html\n",
    "mcfc['year'] = mcfc['created'].dt.year\n",
    "reddevils['year'] = reddevils['created'].dt.year"
   ]
  },
  {
   "cell_type": "code",
   "execution_count": 10,
   "metadata": {},
   "outputs": [],
   "source": [
    "# For some background information, the English Premier League (the football league that both Manchester City\n",
    "# and Manchester United play in) generally has their season between August - May of the following year.\n",
    "# e.g. The upcoming 2021-2022 season is scheduled to begin on August 13, 2021 and end on May 22, 2022.\n",
    "\n",
    "# An interesting assessment would be to categorize 'created' column dates into 'season.'\n",
    "# Then, we'd in theory be able to make some assessments on which season had the most activity in the subreddits.\n",
    "\n",
    "# However, I decided to omit this for the purposes of this project because there are too many variables in this assessment.\n",
    "# e.g. A season only lasts from August - May. In this case, are posts between June - July of a given year in relation to the previous season\n",
    "# or the upcoming one? Perhaps one of the teams had a successful run during a season and kept the fans excited for months, but the other team had\n",
    "# an exciting new player signed for the upcoming season.\n",
    "\n",
    "# Because of this, for the purposes of this project, I've decided to omit this level of exploration, as I'd like to focus on classification techniques.\n",
    "\n",
    "# However, because I found the use of datatime.strptime() very interesting in comparing datetime types, I leave some preliminary code here.\n",
    "# Inspiration taken from the below 2 links:\n",
    "# 1. https://docs.python.org/3/library/datetime.html\n",
    "# 2. https://www.tutorialspoint.com/python/time_strptime.htm\n",
    "\n",
    "#def epl_season(n):\n",
    "#     if n > dt.datetime.strptime('2022-05-22 23:59:59', '%Y-%m-%d %H:%M:%S'):\n",
    "#         season = 'Post 2021-2022 Offseason'\n",
    "#     elif (n <= dt.datetime.strptime('2022-05-22 23:59:59', '%Y-%m-%d %H:%M:%S')) & (n > dt.datetime.strptime('2021-08-13 00:00:00', '%Y-%m-%d %H:%M:%S')):\n",
    "#         season = '2020-2021'\n",
    "#     return season"
   ]
  },
  {
   "cell_type": "code",
   "execution_count": 11,
   "metadata": {},
   "outputs": [],
   "source": [
    "# From Wikipedia, I gathered the final standings of both Manchester City and Manchester United in the English Premier League from the 2015-2016\n",
    "# season to the 2020-2021 seasons. For simplicity, I will link the calendar year to the final standing.\n",
    "\n",
    "# e.g. Manchester City finished 4th in the 2015-2016 season. I will consider their 2016 standing to be 4th.\n",
    "\n",
    "# Creating a dictionary with key = year and value = final standing\n",
    "mcfc_season_record_dict = {2016: 4, 2017: 3, 2018: 1, 2019: 1, 2020: 2, 2021: 1}\n",
    "reddevils_season_record_dict = {2016: 5, 2017: 6, 2018: 2, 2019: 6, 2020: 3, 2021: 2}\n",
    "\n",
    "# Sources: https://en.wikipedia.org/wiki/List_of_Manchester_City_F.C._seasons\n",
    "# https://en.wikipedia.org/wiki/List_of_Manchester_United_F.C._seasons"
   ]
  },
  {
   "cell_type": "code",
   "execution_count": 12,
   "metadata": {},
   "outputs": [],
   "source": [
    "# I will map the above dictionaries to the 'year' column to create a new 'season_standings'column.\n",
    "# This is the reason why I continued to work with individual dataframes rather than concatenate one large dataframe - \n",
    "# to successfully map standings for each club separately\n",
    "\n",
    "mcfc['season_standings'] = mcfc['year'].map(mcfc_season_record_dict)\n",
    "reddevils['season_standings'] = reddevils['year'].map(reddevils_season_record_dict)"
   ]
  },
  {
   "cell_type": "code",
   "execution_count": 13,
   "metadata": {},
   "outputs": [],
   "source": [
    "# I will now combine each dataframe into a single dataframe\n",
    "submissions = pd.concat([mcfc, reddevils])"
   ]
  },
  {
   "cell_type": "code",
   "execution_count": 14,
   "metadata": {},
   "outputs": [],
   "source": [
    "# I'd like to revise the standings data so that it'd be easier to visualize in a plot.\n",
    "\n",
    "# The logic I'd like to use is as follows:\n",
    "# If you are 1st place in a league of 20 teams, you are essentially the highest ranked team. Translating this into simple counting, the largest number from 1 - 20\n",
    "# is 20. Therefore, I would like to map a new column to reflect this.\n",
    "# e.g. 1st place -> 20; 2nd place -> 19, 3rd place -> 18, ...., 18th place -> 3, 19th place -> 2, 20th place -> 1\n",
    "\n",
    "season_standings_to_plot = {1:20, 2:19, 3:18, 4:17, 5:16, 6:15, 7:14, 8:13, 9:12, 10:11, 11:10, 12:9, 13:8, 14:7, 15:6, 16:5, 17:4, 18:3, 19:2, 20:1, 'TBD': 'TBD'}\n",
    "submissions['season_standings_to_plot'] = submissions['season_standings'].map(season_standings_to_plot)"
   ]
  },
  {
   "cell_type": "code",
   "execution_count": 15,
   "metadata": {},
   "outputs": [
    {
     "data": {
      "text/plain": [
       "title                           0\n",
       "author                          0\n",
       "created_utc                     0\n",
       "subreddit                       0\n",
       "selftext                    69301\n",
       "created                         0\n",
       "year                            0\n",
       "season_standings                0\n",
       "season_standings_to_plot        0\n",
       "dtype: int64"
      ]
     },
     "execution_count": 15,
     "metadata": {},
     "output_type": "execute_result"
    }
   ],
   "source": [
    "# Checking for null values\n",
    "submissions.isnull().sum()"
   ]
  },
  {
   "cell_type": "code",
   "execution_count": 16,
   "metadata": {},
   "outputs": [],
   "source": [
    "# The null values in the 'selftext' columns are blank entries.\n",
    "# I will therefore remove these by replacing them with an empty string.\n",
    "submissions = submissions.replace(np.nan, '')"
   ]
  },
  {
   "cell_type": "code",
   "execution_count": 17,
   "metadata": {},
   "outputs": [
    {
     "data": {
      "text/plain": [
       "title                       0\n",
       "author                      0\n",
       "created_utc                 0\n",
       "subreddit                   0\n",
       "selftext                    0\n",
       "created                     0\n",
       "year                        0\n",
       "season_standings            0\n",
       "season_standings_to_plot    0\n",
       "dtype: int64"
      ]
     },
     "execution_count": 17,
     "metadata": {},
     "output_type": "execute_result"
    }
   ],
   "source": [
    "# Checking for null values\n",
    "submissions.isnull().sum()"
   ]
  },
  {
   "cell_type": "code",
   "execution_count": 18,
   "metadata": {
    "scrolled": true
   },
   "outputs": [
    {
     "data": {
      "text/plain": [
       "                                                                                                                                                                                                                                                                                                                                                                                                                                                                                                                                                                                                                                                                                                                                                                                                                                                                                                                                                                                                                                                                                                                                                                                                                                                                                 69301\n",
       "[removed]                                                                                                                                                                                                                                                                                                                                                                                                                                                                                                                                                                                                                                                                                                                                                                                                                                                                                                                                                                                                                                                                                                                                                                                                                                                                         4661\n",
       "[deleted]                                                                                                                                                                                                                                                                                                                                                                                                                                                                                                                                                                                                                                                                                                                                                                                                                                                                                                                                                                                                                                                                                                                                                                                                                                                                         3992\n",
       "Daily discussion on Manchester United. \\n\\n&amp;#x200B;\\n\\n**BE CIVIL**\\n\\n&amp;#x200B;\\n\\n It has been mentioned, but the toxicity and abuse towards the sub, within the sub, and towards other subs has been too high. We as moderators have our share of blame in this, but we want to stress that this kind of behavior is not acceptable and we are taking these measures primarily to avoid these things. We want /r/reddevils to be a place where anyone and everyone is welcome to discuss and enjoy the best club on earth without fear of abuse or ridicule.\\n\\n&amp;#x200B;\\n\\nWhich leads us to 2 other small reminders. The report button is your friend, we are way more likely to find and remove and/or ban rule breaking comments if you report them. The downvote button is not a \"I disagree or don't like your statement button\", better discussion is generally had by using the upvote button more liberally and avoiding the downvote one whenever possible.\\n\\n&amp;#x200B;\\n\\n********\\n\\n&amp;#x200B;\\n\\n[Link to the latest Media Monday thread (for all media, wallpapers, stylized photos, memes, etc.)](https://www.reddit.com/r/reddevils/search?q=title%3Amedia%2Bmonday&amp;restrict\\_sr=on&amp;include\\_over\\_18=on&amp;sort=new&amp;t=all)      315\n",
       "Daily discussion on Manchester United. \\n\\n**BE CIVIL**\\n\\n It has been mentioned, but the toxicity and abuse towards the sub, within the sub, and towards other subs has been too high. We as moderators have our share of blame in this, but we want to stress that this kind of behavior is not acceptable and we are taking these measures primarily to avoid these things. We want /r/reddevils to be a place where anyone and everyone is welcome to discuss and enjoy the best club on earth without fear of abuse or ridicule.\\n\\nWhich leads us to 2 other small reminders. The report button is your friend, we are way more likely to find and remove and/or ban rule breaking comments if you report them. The downvote button is not a \"I disagree or don't like your statement button\", better discussion is generally had by using the upvote button more liberally and avoiding the downvote one whenever possible.\\n\\n********\\n\\n[Link to the latest Media Monday thread (for all media, wallpapers, styalized photos, memes, etc.)](https://www.reddit.com/r/reddevils/search?q=title%3Amedia%2Bmonday&amp;restrict_sr=on&amp;include_over_18=on&amp;sort=new&amp;t=all)                                                                                        292\n",
       "                                                                                                                                                                                                                                                                                                                                                                                                                                                                                                                                                                                                                                                                                                                                                                                                                                                                                                                                                                                                                                                                                                                                                                                                                                                                                 ...  \n",
       "The city of Manchester has had some great players, both for city and united. What would be your all time Manchester XI in history if you had to choose? \\n\\n&amp;#x200B;\\n\\nMine would be:\\n\\nAguero Rooney\\n\\nD. Silva Beckham Scholes Ronaldo \\n\\nEvra Kompany Rio Neville \\n\\nSchmeichel                                                                                                                                                                                                                                                                                                                                                                                                                                                                                                                                                                                                                                                                                                                                                                                                                                                                                                                                                                                          1\n",
       "Is there ANY WAY WHATSOEVER to set up a scouse filter on Newsnow for the Man City page? It has gone from hilarious to cringe to tragic, \\n\\nI just want to hear about Man City news, not 300 pages of those sub-species ‘scousers’ hosting over City injuries or playing victim over every insignificant event that doesn’t even involve them                                                                                                                                                                                                                                                                                                                                                                                                                                                                                                                                                                                                                                                                                                                                                                                                                                                                                                                                        1\n",
       "Always nice to see a good pun based FPL Team name! Not many City ones about!                                                                                                                                                                                                                                                                                                                                                                                                                                                                                                                                                                                                                                                                                                                                                                                                                                                                                                                                                                                                                                                                                                                                                                                                         1\n",
       "This is gonna sound creepy but I'm planning on attending tomorrow's match in Nashville and since I'm here I thought it would be cool to find the players hotel and try to meet them. Does anyone know what hotel the players are staying at?                                                                                                                                                                                                                                                                                                                                                                                                                                                                                                                                                                                                                                                                                                                                                                                                                                                                                                                                                                                                                                         1\n",
       "Merry Christmas to all my MCFC friends across the pond! Let us all enjoy the gift of being 13 points clear at the top of the table. \\n\\nI hope you enjoy your day with family and friends!                                                                                                                                                                                                                                                                                                                                                                                                                                                                                                                                                                                                                                                                                                                                                                                                                                                                                                                                                                                                                                                                                           1\n",
       "Name: selftext, Length: 20103, dtype: int64"
      ]
     },
     "execution_count": 18,
     "metadata": {},
     "output_type": "execute_result"
    }
   ],
   "source": [
    "# I will take a look at value counts for the 'selftext' column.\n",
    "submissions['selftext'].value_counts()"
   ]
  },
  {
   "cell_type": "code",
   "execution_count": 19,
   "metadata": {},
   "outputs": [],
   "source": [
    "# From the above, we can see that the most recurring entries are '[removed]' and '[deleted]'.\n",
    "# Therefore, I will replace these entries with empty strings as well.\n",
    "\n",
    "submissions['selftext'].replace('[deleted]', '', inplace=True)\n",
    "submissions['selftext'].replace('[removed]', '', inplace=True)"
   ]
  },
  {
   "cell_type": "code",
   "execution_count": 20,
   "metadata": {
    "scrolled": true
   },
   "outputs": [
    {
     "data": {
      "text/plain": [
       "                                                                                                                                                                                                                                                                                                                                                                                                                                                                                                                                                                                                                                                                                                                                                                                                                                                                                                                                                                                                                                                                                                                                                                                                                                                                                 77954\n",
       "Daily discussion on Manchester United. \\n\\n&amp;#x200B;\\n\\n**BE CIVIL**\\n\\n&amp;#x200B;\\n\\n It has been mentioned, but the toxicity and abuse towards the sub, within the sub, and towards other subs has been too high. We as moderators have our share of blame in this, but we want to stress that this kind of behavior is not acceptable and we are taking these measures primarily to avoid these things. We want /r/reddevils to be a place where anyone and everyone is welcome to discuss and enjoy the best club on earth without fear of abuse or ridicule.\\n\\n&amp;#x200B;\\n\\nWhich leads us to 2 other small reminders. The report button is your friend, we are way more likely to find and remove and/or ban rule breaking comments if you report them. The downvote button is not a \"I disagree or don't like your statement button\", better discussion is generally had by using the upvote button more liberally and avoiding the downvote one whenever possible.\\n\\n&amp;#x200B;\\n\\n********\\n\\n&amp;#x200B;\\n\\n[Link to the latest Media Monday thread (for all media, wallpapers, stylized photos, memes, etc.)](https://www.reddit.com/r/reddevils/search?q=title%3Amedia%2Bmonday&amp;restrict\\_sr=on&amp;include\\_over\\_18=on&amp;sort=new&amp;t=all)      315\n",
       "Daily discussion on Manchester United. \\n\\n**BE CIVIL**\\n\\n It has been mentioned, but the toxicity and abuse towards the sub, within the sub, and towards other subs has been too high. We as moderators have our share of blame in this, but we want to stress that this kind of behavior is not acceptable and we are taking these measures primarily to avoid these things. We want /r/reddevils to be a place where anyone and everyone is welcome to discuss and enjoy the best club on earth without fear of abuse or ridicule.\\n\\nWhich leads us to 2 other small reminders. The report button is your friend, we are way more likely to find and remove and/or ban rule breaking comments if you report them. The downvote button is not a \"I disagree or don't like your statement button\", better discussion is generally had by using the upvote button more liberally and avoiding the downvote one whenever possible.\\n\\n********\\n\\n[Link to the latest Media Monday thread (for all media, wallpapers, styalized photos, memes, etc.)](https://www.reddit.com/r/reddevils/search?q=title%3Amedia%2Bmonday&amp;restrict_sr=on&amp;include_over_18=on&amp;sort=new&amp;t=all)                                                                                        292\n",
       "In an effort to cut down on the number of sort-of-off-topic-ish posts about the fortunes of other clubs, welcome to our general footy discussion thread!\\n\\nDid a rival drop points?  This is the place to discuss it!  Did you see that mental goal in some game that City weren't playing in?  Talk about it here!\\n                                                                                                                                                                                                                                                                                                                                                                                                                                                                                                                                                                                                                                                                                                                                                                                                                                                                                                                                                             138\n",
       "Welcome to the weekly general discussion thread.  This is for discussion about whatever's on your mind.  Feel free to ask your burning questions, talk about other teams, movies, music, whatever!\\n\\nTo be clear, while this is a place off-topic discussion, all the other [rules](http://www.reddit.com/r/MCFC/wiki/Rules) still apply.\\n\\nPlease consider using our spoiler code where appropriate:  \\[The Walking Dead spoiler](#s \"It has zombies in it\") becomes [The Walking Dead spoiler](#s \"It has zombies in it\")\\n                                                                                                                                                                                                                                                                                                                                                                                                                                                                                                                                                                                                                                                                                                                                                    121\n",
       "                                                                                                                                                                                                                                                                                                                                                                                                                                                                                                                                                                                                                                                                                                                                                                                                                                                                                                                                                                                                                                                                                                                                                                                                                                                                                 ...  \n",
       "Yes we lost today. Yes It gives Liverpool a *1 point* lead. \\nSo where are the easy points and though matches over the next few weeks? \\nCity:\\nEverton (H)- Early kick off meh but should win \\nCrystal Palace (H)- Lacklustre team hopefully straight forward  \\nLeicester (A)- Boxing Day away, good support. Will be hard \\nSouthampton (A) -Always weird when we face them, but they’re horrendous this season \\nLiverpool (H) - this will be ‘the game’ which could determine our season. Home strength definitely helps \\nWolves (H)  drew to a dodgy goal last time early kick off away but should win.\\n                                                                                                                                                                                                                                                                                                                                                                                                                                                                                                                                                                                                                                                                    1\n",
       "The city of Manchester has had some great players, both for city and united. What would be your all time Manchester XI in history if you had to choose? \\n\\n&amp;#x200B;\\n\\nMine would be:\\n\\nAguero Rooney\\n\\nD. Silva Beckham Scholes Ronaldo \\n\\nEvra Kompany Rio Neville \\n\\nSchmeichel                                                                                                                                                                                                                                                                                                                                                                                                                                                                                                                                                                                                                                                                                                                                                                                                                                                                                                                                                                                          1\n",
       "Is there ANY WAY WHATSOEVER to set up a scouse filter on Newsnow for the Man City page? It has gone from hilarious to cringe to tragic, \\n\\nI just want to hear about Man City news, not 300 pages of those sub-species ‘scousers’ hosting over City injuries or playing victim over every insignificant event that doesn’t even involve them                                                                                                                                                                                                                                                                                                                                                                                                                                                                                                                                                                                                                                                                                                                                                                                                                                                                                                                                        1\n",
       "Always nice to see a good pun based FPL Team name! Not many City ones about!                                                                                                                                                                                                                                                                                                                                                                                                                                                                                                                                                                                                                                                                                                                                                                                                                                                                                                                                                                                                                                                                                                                                                                                                         1\n",
       "Please                                                                                                                                                                                                                                                                                                                                                                                                                                                                                                                                                                                                                                                                                                                                                                                                                                                                                                                                                                                                                                                                                                                                                                                                                                                                               1\n",
       "Name: selftext, Length: 20101, dtype: int64"
      ]
     },
     "execution_count": 20,
     "metadata": {},
     "output_type": "execute_result"
    }
   ],
   "source": [
    "# A second attempt at value count. It seems there were 69301 null values (empty strings) + 4661 [removed] and 3992 [deleted] for a total of 77954 'selftext'\n",
    "# columns set to an empty string.\n",
    "submissions['selftext'].value_counts()"
   ]
  },
  {
   "cell_type": "code",
   "execution_count": 21,
   "metadata": {},
   "outputs": [],
   "source": [
    "# It seems like a lot of recurring posts are to remind the community of the general guidelines of the subreddit and to refrain from toxic and abusive posts."
   ]
  },
  {
   "cell_type": "code",
   "execution_count": 22,
   "metadata": {},
   "outputs": [],
   "source": [
    "# Because we are dealing with the submissions data, it is not entirely surprising to see a lot of empty 'selftext' entries.\n",
    "# I will create a combined 'title_selftext' column that will capture both the content from the 'title' and 'selftext' columns into one column.\n",
    "submissions['title_selftext'] = submissions['title'] + ': ' + submissions['selftext']"
   ]
  },
  {
   "cell_type": "code",
   "execution_count": 23,
   "metadata": {},
   "outputs": [
    {
     "data": {
      "text/html": [
       "<div>\n",
       "<style scoped>\n",
       "    .dataframe tbody tr th:only-of-type {\n",
       "        vertical-align: middle;\n",
       "    }\n",
       "\n",
       "    .dataframe tbody tr th {\n",
       "        vertical-align: top;\n",
       "    }\n",
       "\n",
       "    .dataframe thead th {\n",
       "        text-align: right;\n",
       "    }\n",
       "</style>\n",
       "<table border=\"1\" class=\"dataframe\">\n",
       "  <thead>\n",
       "    <tr style=\"text-align: right;\">\n",
       "      <th></th>\n",
       "      <th>title</th>\n",
       "      <th>author</th>\n",
       "      <th>created_utc</th>\n",
       "      <th>subreddit</th>\n",
       "      <th>selftext</th>\n",
       "      <th>created</th>\n",
       "      <th>year</th>\n",
       "      <th>season_standings</th>\n",
       "      <th>season_standings_to_plot</th>\n",
       "      <th>title_selftext</th>\n",
       "    </tr>\n",
       "  </thead>\n",
       "  <tbody>\n",
       "    <tr>\n",
       "      <th>0</th>\n",
       "      <td>Grealish should be joining within the week</td>\n",
       "      <td>jeremyparnaby</td>\n",
       "      <td>1627180473</td>\n",
       "      <td>MCFC</td>\n",
       "      <td>Kane is still up in the air. Plan B on a strik...</td>\n",
       "      <td>2021-07-24 22:34:33</td>\n",
       "      <td>2021</td>\n",
       "      <td>1</td>\n",
       "      <td>20</td>\n",
       "      <td>Grealish should be joining within the week: Ka...</td>\n",
       "    </tr>\n",
       "    <tr>\n",
       "      <th>1</th>\n",
       "      <td>How many of them can you name?</td>\n",
       "      <td>UneducatedSlob</td>\n",
       "      <td>1627167486</td>\n",
       "      <td>MCFC</td>\n",
       "      <td></td>\n",
       "      <td>2021-07-24 18:58:06</td>\n",
       "      <td>2021</td>\n",
       "      <td>1</td>\n",
       "      <td>20</td>\n",
       "      <td>How many of them can you name?:</td>\n",
       "    </tr>\n",
       "    <tr>\n",
       "      <th>2</th>\n",
       "      <td>Awww shit, here we go again: [Nick Harris] Whe...</td>\n",
       "      <td>_conjohn</td>\n",
       "      <td>1627166044</td>\n",
       "      <td>MCFC</td>\n",
       "      <td></td>\n",
       "      <td>2021-07-24 18:34:04</td>\n",
       "      <td>2021</td>\n",
       "      <td>1</td>\n",
       "      <td>20</td>\n",
       "      <td>Awww shit, here we go again: [Nick Harris] Whe...</td>\n",
       "    </tr>\n",
       "    <tr>\n",
       "      <th>3</th>\n",
       "      <td>[Daily Discussion] Saturday 24 July 2021</td>\n",
       "      <td>AutoModerator</td>\n",
       "      <td>1627160414</td>\n",
       "      <td>MCFC</td>\n",
       "      <td>This thread is for general discussion and a pl...</td>\n",
       "      <td>2021-07-24 17:00:14</td>\n",
       "      <td>2021</td>\n",
       "      <td>1</td>\n",
       "      <td>20</td>\n",
       "      <td>[Daily Discussion] Saturday 24 July 2021: This...</td>\n",
       "    </tr>\n",
       "    <tr>\n",
       "      <th>4</th>\n",
       "      <td>On this day 10 years ago</td>\n",
       "      <td>tquad24</td>\n",
       "      <td>1627152595</td>\n",
       "      <td>MCFC</td>\n",
       "      <td></td>\n",
       "      <td>2021-07-24 14:49:55</td>\n",
       "      <td>2021</td>\n",
       "      <td>1</td>\n",
       "      <td>20</td>\n",
       "      <td>On this day 10 years ago:</td>\n",
       "    </tr>\n",
       "  </tbody>\n",
       "</table>\n",
       "</div>"
      ],
      "text/plain": [
       "                                               title          author  \\\n",
       "0         Grealish should be joining within the week   jeremyparnaby   \n",
       "1                     How many of them can you name?  UneducatedSlob   \n",
       "2  Awww shit, here we go again: [Nick Harris] Whe...        _conjohn   \n",
       "3           [Daily Discussion] Saturday 24 July 2021   AutoModerator   \n",
       "4                           On this day 10 years ago         tquad24   \n",
       "\n",
       "   created_utc subreddit                                           selftext  \\\n",
       "0   1627180473      MCFC  Kane is still up in the air. Plan B on a strik...   \n",
       "1   1627167486      MCFC                                                      \n",
       "2   1627166044      MCFC                                                      \n",
       "3   1627160414      MCFC  This thread is for general discussion and a pl...   \n",
       "4   1627152595      MCFC                                                      \n",
       "\n",
       "              created  year  season_standings  season_standings_to_plot  \\\n",
       "0 2021-07-24 22:34:33  2021                 1                        20   \n",
       "1 2021-07-24 18:58:06  2021                 1                        20   \n",
       "2 2021-07-24 18:34:04  2021                 1                        20   \n",
       "3 2021-07-24 17:00:14  2021                 1                        20   \n",
       "4 2021-07-24 14:49:55  2021                 1                        20   \n",
       "\n",
       "                                      title_selftext  \n",
       "0  Grealish should be joining within the week: Ka...  \n",
       "1                   How many of them can you name?:   \n",
       "2  Awww shit, here we go again: [Nick Harris] Whe...  \n",
       "3  [Daily Discussion] Saturday 24 July 2021: This...  \n",
       "4                         On this day 10 years ago:   "
      ]
     },
     "execution_count": 23,
     "metadata": {},
     "output_type": "execute_result"
    }
   ],
   "source": [
    "# Viewing current dataframe\n",
    "submissions.head()"
   ]
  },
  {
   "cell_type": "code",
   "execution_count": 24,
   "metadata": {},
   "outputs": [],
   "source": [
    "# From initial EDA, I noticed that components of website links appeared in frequent words found in posts (e.g. https, www)\n",
    "# Therefore, I'd like to remove url strings from the title_selftext column.\n",
    "\n",
    "# Inspiration from Stack Overflow: https://stackoverflow.com/questions/11331982/how-to-remove-any-url-within-a-string-in-python/40823105#40823105\n",
    "\n",
    "def remove_url(string):\n",
    "    return re.sub(r'http\\S+', '', string)"
   ]
  },
  {
   "cell_type": "code",
   "execution_count": 25,
   "metadata": {},
   "outputs": [],
   "source": [
    "submissions['title_selftext'] = submissions['title_selftext'].apply(remove_url)"
   ]
  },
  {
   "cell_type": "code",
   "execution_count": 26,
   "metadata": {},
   "outputs": [],
   "source": [
    "# Dropping unnecessary columns\n",
    "submissions = submissions.drop(columns=['title', 'created_utc', 'selftext'])"
   ]
  },
  {
   "cell_type": "code",
   "execution_count": 27,
   "metadata": {},
   "outputs": [],
   "source": [
    "# Reorganizing columns\n",
    "submissions = submissions[['author', 'title_selftext', 'created', 'year', 'season_standings', 'season_standings_to_plot', 'subreddit']]"
   ]
  },
  {
   "cell_type": "code",
   "execution_count": 28,
   "metadata": {},
   "outputs": [],
   "source": [
    "# Binarizing subreddit classifications: MCFC to 1, reddevils to 0\n",
    "submissions['subreddit'] = submissions['subreddit'].map({'MCFC': 1, 'reddevils': 0})"
   ]
  },
  {
   "cell_type": "code",
   "execution_count": 29,
   "metadata": {},
   "outputs": [
    {
     "data": {
      "text/html": [
       "<div>\n",
       "<style scoped>\n",
       "    .dataframe tbody tr th:only-of-type {\n",
       "        vertical-align: middle;\n",
       "    }\n",
       "\n",
       "    .dataframe tbody tr th {\n",
       "        vertical-align: top;\n",
       "    }\n",
       "\n",
       "    .dataframe thead th {\n",
       "        text-align: right;\n",
       "    }\n",
       "</style>\n",
       "<table border=\"1\" class=\"dataframe\">\n",
       "  <thead>\n",
       "    <tr style=\"text-align: right;\">\n",
       "      <th></th>\n",
       "      <th>author</th>\n",
       "      <th>title_selftext</th>\n",
       "      <th>created</th>\n",
       "      <th>year</th>\n",
       "      <th>season_standings</th>\n",
       "      <th>season_standings_to_plot</th>\n",
       "      <th>subreddit</th>\n",
       "    </tr>\n",
       "  </thead>\n",
       "  <tbody>\n",
       "    <tr>\n",
       "      <th>0</th>\n",
       "      <td>jeremyparnaby</td>\n",
       "      <td>Grealish should be joining within the week: Ka...</td>\n",
       "      <td>2021-07-24 22:34:33</td>\n",
       "      <td>2021</td>\n",
       "      <td>1</td>\n",
       "      <td>20</td>\n",
       "      <td>1</td>\n",
       "    </tr>\n",
       "    <tr>\n",
       "      <th>1</th>\n",
       "      <td>UneducatedSlob</td>\n",
       "      <td>How many of them can you name?:</td>\n",
       "      <td>2021-07-24 18:58:06</td>\n",
       "      <td>2021</td>\n",
       "      <td>1</td>\n",
       "      <td>20</td>\n",
       "      <td>1</td>\n",
       "    </tr>\n",
       "    <tr>\n",
       "      <th>2</th>\n",
       "      <td>_conjohn</td>\n",
       "      <td>Awww shit, here we go again: [Nick Harris] Whe...</td>\n",
       "      <td>2021-07-24 18:34:04</td>\n",
       "      <td>2021</td>\n",
       "      <td>1</td>\n",
       "      <td>20</td>\n",
       "      <td>1</td>\n",
       "    </tr>\n",
       "    <tr>\n",
       "      <th>3</th>\n",
       "      <td>AutoModerator</td>\n",
       "      <td>[Daily Discussion] Saturday 24 July 2021: This...</td>\n",
       "      <td>2021-07-24 17:00:14</td>\n",
       "      <td>2021</td>\n",
       "      <td>1</td>\n",
       "      <td>20</td>\n",
       "      <td>1</td>\n",
       "    </tr>\n",
       "    <tr>\n",
       "      <th>4</th>\n",
       "      <td>tquad24</td>\n",
       "      <td>On this day 10 years ago:</td>\n",
       "      <td>2021-07-24 14:49:55</td>\n",
       "      <td>2021</td>\n",
       "      <td>1</td>\n",
       "      <td>20</td>\n",
       "      <td>1</td>\n",
       "    </tr>\n",
       "    <tr>\n",
       "      <th>...</th>\n",
       "      <td>...</td>\n",
       "      <td>...</td>\n",
       "      <td>...</td>\n",
       "      <td>...</td>\n",
       "      <td>...</td>\n",
       "      <td>...</td>\n",
       "      <td>...</td>\n",
       "    </tr>\n",
       "    <tr>\n",
       "      <th>50095</th>\n",
       "      <td>neotahiro</td>\n",
       "      <td>Three at the back and two up front shows Solsk...</td>\n",
       "      <td>2019-10-21 04:47:41</td>\n",
       "      <td>2019</td>\n",
       "      <td>6</td>\n",
       "      <td>15</td>\n",
       "      <td>0</td>\n",
       "    </tr>\n",
       "    <tr>\n",
       "      <th>50096</th>\n",
       "      <td>Poopy_Butt_Seed</td>\n",
       "      <td>Ole hints new formation could stay:</td>\n",
       "      <td>2019-10-21 04:40:45</td>\n",
       "      <td>2019</td>\n",
       "      <td>6</td>\n",
       "      <td>15</td>\n",
       "      <td>0</td>\n",
       "    </tr>\n",
       "    <tr>\n",
       "      <th>50097</th>\n",
       "      <td>ashu54</td>\n",
       "      <td>Ole Gunnar Solskjaer gives injury update after...</td>\n",
       "      <td>2019-10-21 04:39:30</td>\n",
       "      <td>2019</td>\n",
       "      <td>6</td>\n",
       "      <td>15</td>\n",
       "      <td>0</td>\n",
       "    </tr>\n",
       "    <tr>\n",
       "      <th>50098</th>\n",
       "      <td>IPassedTheRobotTest</td>\n",
       "      <td>Is this news about the Saudi's buying Man Unit...</td>\n",
       "      <td>2019-10-21 04:33:28</td>\n",
       "      <td>2019</td>\n",
       "      <td>6</td>\n",
       "      <td>15</td>\n",
       "      <td>0</td>\n",
       "    </tr>\n",
       "    <tr>\n",
       "      <th>50099</th>\n",
       "      <td>AutoModerator</td>\n",
       "      <td>Media Monday [Memes, Wallpapers, Stylised phot...</td>\n",
       "      <td>2019-10-21 04:15:09</td>\n",
       "      <td>2019</td>\n",
       "      <td>6</td>\n",
       "      <td>15</td>\n",
       "      <td>0</td>\n",
       "    </tr>\n",
       "  </tbody>\n",
       "</table>\n",
       "<p>100156 rows × 7 columns</p>\n",
       "</div>"
      ],
      "text/plain": [
       "                    author                                     title_selftext  \\\n",
       "0            jeremyparnaby  Grealish should be joining within the week: Ka...   \n",
       "1           UneducatedSlob                   How many of them can you name?:    \n",
       "2                 _conjohn  Awww shit, here we go again: [Nick Harris] Whe...   \n",
       "3            AutoModerator  [Daily Discussion] Saturday 24 July 2021: This...   \n",
       "4                  tquad24                         On this day 10 years ago:    \n",
       "...                    ...                                                ...   \n",
       "50095            neotahiro  Three at the back and two up front shows Solsk...   \n",
       "50096      Poopy_Butt_Seed               Ole hints new formation could stay:    \n",
       "50097               ashu54  Ole Gunnar Solskjaer gives injury update after...   \n",
       "50098  IPassedTheRobotTest  Is this news about the Saudi's buying Man Unit...   \n",
       "50099        AutoModerator  Media Monday [Memes, Wallpapers, Stylised phot...   \n",
       "\n",
       "                  created  year  season_standings  season_standings_to_plot  \\\n",
       "0     2021-07-24 22:34:33  2021                 1                        20   \n",
       "1     2021-07-24 18:58:06  2021                 1                        20   \n",
       "2     2021-07-24 18:34:04  2021                 1                        20   \n",
       "3     2021-07-24 17:00:14  2021                 1                        20   \n",
       "4     2021-07-24 14:49:55  2021                 1                        20   \n",
       "...                   ...   ...               ...                       ...   \n",
       "50095 2019-10-21 04:47:41  2019                 6                        15   \n",
       "50096 2019-10-21 04:40:45  2019                 6                        15   \n",
       "50097 2019-10-21 04:39:30  2019                 6                        15   \n",
       "50098 2019-10-21 04:33:28  2019                 6                        15   \n",
       "50099 2019-10-21 04:15:09  2019                 6                        15   \n",
       "\n",
       "       subreddit  \n",
       "0              1  \n",
       "1              1  \n",
       "2              1  \n",
       "3              1  \n",
       "4              1  \n",
       "...          ...  \n",
       "50095          0  \n",
       "50096          0  \n",
       "50097          0  \n",
       "50098          0  \n",
       "50099          0  \n",
       "\n",
       "[100156 rows x 7 columns]"
      ]
     },
     "execution_count": 29,
     "metadata": {},
     "output_type": "execute_result"
    }
   ],
   "source": [
    "# To show first and last 5 rows of dataframe\n",
    "submissions"
   ]
  },
  {
   "cell_type": "code",
   "execution_count": 30,
   "metadata": {},
   "outputs": [
    {
     "data": {
      "text/plain": [
       "author                              object\n",
       "title_selftext                      object\n",
       "created                     datetime64[ns]\n",
       "year                                 int64\n",
       "season_standings                     int64\n",
       "season_standings_to_plot             int64\n",
       "subreddit                            int64\n",
       "dtype: object"
      ]
     },
     "execution_count": 30,
     "metadata": {},
     "output_type": "execute_result"
    }
   ],
   "source": [
    "# Confirming datatypes of each column\n",
    "submissions.dtypes"
   ]
  },
  {
   "cell_type": "code",
   "execution_count": 31,
   "metadata": {},
   "outputs": [
    {
     "data": {
      "text/plain": [
       "0    50100\n",
       "1    50056\n",
       "Name: subreddit, dtype: int64"
      ]
     },
     "execution_count": 31,
     "metadata": {},
     "output_type": "execute_result"
    }
   ],
   "source": [
    "# Value counts - consistent with our initial data collection: 50,100 reddevils posts and 50,056 MCFC posts collected\n",
    "submissions['subreddit'].value_counts()"
   ]
  },
  {
   "cell_type": "code",
   "execution_count": 32,
   "metadata": {},
   "outputs": [],
   "source": [
    "# I realize that reddit posts can at times have posts with less than ideal tone and language.\n",
    "\n",
    "# For future reference, I'd like to leave this link readily available for implementing a library to sensor profanity.\n",
    "# https://www.geeksforgeeks.org/censor-bad-words-in-python-using-better-profanity/"
   ]
  },
  {
   "cell_type": "code",
   "execution_count": 33,
   "metadata": {},
   "outputs": [
    {
     "data": {
      "text/plain": [
       "subreddit  year\n",
       "0          2019     5685\n",
       "           2020    30967\n",
       "           2021    13448\n",
       "1          2016     5911\n",
       "           2017     9822\n",
       "           2018     9191\n",
       "           2019     9718\n",
       "           2020     9289\n",
       "           2021     6125\n",
       "Name: title_selftext, dtype: int64"
      ]
     },
     "execution_count": 33,
     "metadata": {},
     "output_type": "execute_result"
    }
   ],
   "source": [
    "# Grouping reddit posts by subreddit and year\n",
    "submissions.groupby(['subreddit', 'year'])['title_selftext'].count()"
   ]
  },
  {
   "cell_type": "code",
   "execution_count": 34,
   "metadata": {},
   "outputs": [
    {
     "data": {
      "image/png": "[encoded data removed]",
      "text/plain": [
       "<Figure size 432x288 with 1 Axes>"
      ]
     },
     "metadata": {
      "needs_background": "light"
     },
     "output_type": "display_data"
    }
   ],
   "source": [
    "# Let's visualize the above.\n",
    "submissions_reddevils = submissions[submissions['subreddit'] == 0]\n",
    "submissions_mcfc = submissions[submissions['subreddit'] == 1]\n",
    "\n",
    "submissions_reddevils.groupby('year')['title_selftext'].count().plot(kind='barh', color='green')\n",
    "plt.title('Manchester United Reddit Post Distribution');"
   ]
  },
  {
   "cell_type": "code",
   "execution_count": 35,
   "metadata": {},
   "outputs": [],
   "source": [
    "# Considering that our posts collected started from October 2019 to July 2021, we only have one full year's worth of posts \n",
    "# for the reddevils reddit."
   ]
  },
  {
   "cell_type": "code",
   "execution_count": 36,
   "metadata": {},
   "outputs": [
    {
     "data": {
      "image/png": "[encoded data removed]",
      "text/plain": [
       "<Figure size 432x288 with 1 Axes>"
      ]
     },
     "metadata": {
      "needs_background": "light"
     },
     "output_type": "display_data"
    }
   ],
   "source": [
    "submissions_mcfc.groupby('year')['title_selftext'].count().plot(kind='barh');\n",
    "plt.title('Manchester City Reddit Post Distribution');"
   ]
  },
  {
   "cell_type": "code",
   "execution_count": 37,
   "metadata": {},
   "outputs": [],
   "source": [
    "# The posts for Manchester City were collected from February 2016 to July 2021. Therefore, if we take a look at the full years\n",
    "# of 2017 - 2020, it looks to be relatively stable from a visual perspective."
   ]
  },
  {
   "cell_type": "code",
   "execution_count": 38,
   "metadata": {},
   "outputs": [],
   "source": [
    "# We saw this briefly when I obtained the earliest and most recent posts for both reddits. \n",
    "# I performed data collection for approximately 50,000  posts each.\n",
    "\n",
    "# The Manchester City reddit shows a relative even distribution throughout 2016 - 2021.\n",
    "# However, the reddevils reddit only spans from October 2019 - July 2021, less than half the period of Manchester City.\n",
    "\n",
    "# This shows that the reddevils reddit is MUCH MORE active than the Manchester United reddit.\n",
    "\n",
    "# This can be supported by the below link. As of June 2019, Manchester United (reddevils) had 164,276 subscribers,\n",
    "# while Manchester City had 52,200 subscribers. The ratio of reddevils subscribers to Manchester City is greater than 3:1.\n",
    "# https://www.reddit.com/r/soccer/comments/c1p61u/football_clubs_with_the_largest_subreddits_as_of/\n",
    "\n",
    "# Therefore, given the data set, I don't think we'd be able to make really meaningful conclusions based on trends from year to year.\n",
    "# For the purposes of this project, I will delete the 'year' and 'season_standings' / 'season_standings_to_post' columns.\n",
    "\n",
    "submissions = submissions.drop(['year', 'season_standings', 'season_standings_to_plot'], axis=1)"
   ]
  },
  {
   "cell_type": "code",
   "execution_count": 39,
   "metadata": {},
   "outputs": [
    {
     "data": {
      "text/plain": [
       "author                    object\n",
       "title_selftext            object\n",
       "created           datetime64[ns]\n",
       "subreddit                  int64\n",
       "dtype: object"
      ]
     },
     "execution_count": 39,
     "metadata": {},
     "output_type": "execute_result"
    }
   ],
   "source": [
    "submissions.dtypes"
   ]
  },
  {
   "cell_type": "code",
   "execution_count": 40,
   "metadata": {},
   "outputs": [],
   "source": [
    "submissions.rename({'title_selftext' : 'text'}, axis = 1, inplace=True)"
   ]
  },
  {
   "cell_type": "code",
   "execution_count": 41,
   "metadata": {},
   "outputs": [
    {
     "data": {
      "text/html": [
       "<div>\n",
       "<style scoped>\n",
       "    .dataframe tbody tr th:only-of-type {\n",
       "        vertical-align: middle;\n",
       "    }\n",
       "\n",
       "    .dataframe tbody tr th {\n",
       "        vertical-align: top;\n",
       "    }\n",
       "\n",
       "    .dataframe thead th {\n",
       "        text-align: right;\n",
       "    }\n",
       "</style>\n",
       "<table border=\"1\" class=\"dataframe\">\n",
       "  <thead>\n",
       "    <tr style=\"text-align: right;\">\n",
       "      <th></th>\n",
       "      <th>author</th>\n",
       "      <th>text</th>\n",
       "      <th>created</th>\n",
       "      <th>subreddit</th>\n",
       "    </tr>\n",
       "  </thead>\n",
       "  <tbody>\n",
       "    <tr>\n",
       "      <th>0</th>\n",
       "      <td>jeremyparnaby</td>\n",
       "      <td>Grealish should be joining within the week: Ka...</td>\n",
       "      <td>2021-07-24 22:34:33</td>\n",
       "      <td>1</td>\n",
       "    </tr>\n",
       "    <tr>\n",
       "      <th>1</th>\n",
       "      <td>UneducatedSlob</td>\n",
       "      <td>How many of them can you name?:</td>\n",
       "      <td>2021-07-24 18:58:06</td>\n",
       "      <td>1</td>\n",
       "    </tr>\n",
       "    <tr>\n",
       "      <th>2</th>\n",
       "      <td>_conjohn</td>\n",
       "      <td>Awww shit, here we go again: [Nick Harris] Whe...</td>\n",
       "      <td>2021-07-24 18:34:04</td>\n",
       "      <td>1</td>\n",
       "    </tr>\n",
       "    <tr>\n",
       "      <th>3</th>\n",
       "      <td>AutoModerator</td>\n",
       "      <td>[Daily Discussion] Saturday 24 July 2021: This...</td>\n",
       "      <td>2021-07-24 17:00:14</td>\n",
       "      <td>1</td>\n",
       "    </tr>\n",
       "    <tr>\n",
       "      <th>4</th>\n",
       "      <td>tquad24</td>\n",
       "      <td>On this day 10 years ago:</td>\n",
       "      <td>2021-07-24 14:49:55</td>\n",
       "      <td>1</td>\n",
       "    </tr>\n",
       "  </tbody>\n",
       "</table>\n",
       "</div>"
      ],
      "text/plain": [
       "           author                                               text  \\\n",
       "0   jeremyparnaby  Grealish should be joining within the week: Ka...   \n",
       "1  UneducatedSlob                   How many of them can you name?:    \n",
       "2        _conjohn  Awww shit, here we go again: [Nick Harris] Whe...   \n",
       "3   AutoModerator  [Daily Discussion] Saturday 24 July 2021: This...   \n",
       "4         tquad24                         On this day 10 years ago:    \n",
       "\n",
       "              created  subreddit  \n",
       "0 2021-07-24 22:34:33          1  \n",
       "1 2021-07-24 18:58:06          1  \n",
       "2 2021-07-24 18:34:04          1  \n",
       "3 2021-07-24 17:00:14          1  \n",
       "4 2021-07-24 14:49:55          1  "
      ]
     },
     "execution_count": 41,
     "metadata": {},
     "output_type": "execute_result"
    }
   ],
   "source": [
    "submissions.head()"
   ]
  },
  {
   "cell_type": "code",
   "execution_count": 42,
   "metadata": {},
   "outputs": [],
   "source": [
    "# Save Cleaned Dataframe to CSV\n",
    "submissions.to_csv('./data/submissions_clean.csv')"
   ]
  },
  {
   "cell_type": "markdown",
   "metadata": {},
   "source": [
    "### Exploratory Data Analysis (EDA)"
   ]
  },
  {
   "cell_type": "markdown",
   "metadata": {},
   "source": [
    "#### Pre-Processing the Data (NLP)"
   ]
  },
  {
   "cell_type": "markdown",
   "metadata": {},
   "source": [
    "##### Tokenize to separate list and remove punctuation"
   ]
  },
  {
   "cell_type": "code",
   "execution_count": 43,
   "metadata": {},
   "outputs": [],
   "source": [
    "# Instantiate RegExp Tokenizer\n",
    "tokenizer = RegexpTokenizer(r'\\w+')"
   ]
  },
  {
   "cell_type": "code",
   "execution_count": 44,
   "metadata": {},
   "outputs": [],
   "source": [
    "# Apply RegExp Tokenizer to remove punctuation\n",
    "submissions['text_tokenized'] = submissions['text'].apply(tokenizer.tokenize)"
   ]
  },
  {
   "cell_type": "code",
   "execution_count": 45,
   "metadata": {},
   "outputs": [
    {
     "data": {
      "text/html": [
       "<div>\n",
       "<style scoped>\n",
       "    .dataframe tbody tr th:only-of-type {\n",
       "        vertical-align: middle;\n",
       "    }\n",
       "\n",
       "    .dataframe tbody tr th {\n",
       "        vertical-align: top;\n",
       "    }\n",
       "\n",
       "    .dataframe thead th {\n",
       "        text-align: right;\n",
       "    }\n",
       "</style>\n",
       "<table border=\"1\" class=\"dataframe\">\n",
       "  <thead>\n",
       "    <tr style=\"text-align: right;\">\n",
       "      <th></th>\n",
       "      <th>author</th>\n",
       "      <th>text</th>\n",
       "      <th>created</th>\n",
       "      <th>subreddit</th>\n",
       "      <th>text_tokenized</th>\n",
       "    </tr>\n",
       "  </thead>\n",
       "  <tbody>\n",
       "    <tr>\n",
       "      <th>0</th>\n",
       "      <td>jeremyparnaby</td>\n",
       "      <td>Grealish should be joining within the week: Ka...</td>\n",
       "      <td>2021-07-24 22:34:33</td>\n",
       "      <td>1</td>\n",
       "      <td>[Grealish, should, be, joining, within, the, w...</td>\n",
       "    </tr>\n",
       "    <tr>\n",
       "      <th>1</th>\n",
       "      <td>UneducatedSlob</td>\n",
       "      <td>How many of them can you name?:</td>\n",
       "      <td>2021-07-24 18:58:06</td>\n",
       "      <td>1</td>\n",
       "      <td>[How, many, of, them, can, you, name]</td>\n",
       "    </tr>\n",
       "    <tr>\n",
       "      <th>2</th>\n",
       "      <td>_conjohn</td>\n",
       "      <td>Awww shit, here we go again: [Nick Harris] Whe...</td>\n",
       "      <td>2021-07-24 18:34:04</td>\n",
       "      <td>1</td>\n",
       "      <td>[Awww, shit, here, we, go, again, Nick, Harris...</td>\n",
       "    </tr>\n",
       "    <tr>\n",
       "      <th>3</th>\n",
       "      <td>AutoModerator</td>\n",
       "      <td>[Daily Discussion] Saturday 24 July 2021: This...</td>\n",
       "      <td>2021-07-24 17:00:14</td>\n",
       "      <td>1</td>\n",
       "      <td>[Daily, Discussion, Saturday, 24, July, 2021, ...</td>\n",
       "    </tr>\n",
       "    <tr>\n",
       "      <th>4</th>\n",
       "      <td>tquad24</td>\n",
       "      <td>On this day 10 years ago:</td>\n",
       "      <td>2021-07-24 14:49:55</td>\n",
       "      <td>1</td>\n",
       "      <td>[On, this, day, 10, years, ago]</td>\n",
       "    </tr>\n",
       "  </tbody>\n",
       "</table>\n",
       "</div>"
      ],
      "text/plain": [
       "           author                                               text  \\\n",
       "0   jeremyparnaby  Grealish should be joining within the week: Ka...   \n",
       "1  UneducatedSlob                   How many of them can you name?:    \n",
       "2        _conjohn  Awww shit, here we go again: [Nick Harris] Whe...   \n",
       "3   AutoModerator  [Daily Discussion] Saturday 24 July 2021: This...   \n",
       "4         tquad24                         On this day 10 years ago:    \n",
       "\n",
       "              created  subreddit  \\\n",
       "0 2021-07-24 22:34:33          1   \n",
       "1 2021-07-24 18:58:06          1   \n",
       "2 2021-07-24 18:34:04          1   \n",
       "3 2021-07-24 17:00:14          1   \n",
       "4 2021-07-24 14:49:55          1   \n",
       "\n",
       "                                      text_tokenized  \n",
       "0  [Grealish, should, be, joining, within, the, w...  \n",
       "1              [How, many, of, them, can, you, name]  \n",
       "2  [Awww, shit, here, we, go, again, Nick, Harris...  \n",
       "3  [Daily, Discussion, Saturday, 24, July, 2021, ...  \n",
       "4                    [On, this, day, 10, years, ago]  "
      ]
     },
     "execution_count": 45,
     "metadata": {},
     "output_type": "execute_result"
    }
   ],
   "source": [
    "submissions.head()"
   ]
  },
  {
   "cell_type": "markdown",
   "metadata": {},
   "source": [
    "##### Lemmatize to capture and combine similar forms of the same words"
   ]
  },
  {
   "cell_type": "code",
   "execution_count": 46,
   "metadata": {},
   "outputs": [],
   "source": [
    "# Instantiate lemmatizer. \n",
    "lemmatizer = WordNetLemmatizer()"
   ]
  },
  {
   "cell_type": "code",
   "execution_count": 47,
   "metadata": {},
   "outputs": [],
   "source": [
    "# Apply Lemmatizer to tokenized text to capture and combine similar forms of the same words (e.g. run/ran)\n",
    "submissions['text_lemmatized'] = submissions['text_tokenized'].apply(lambda x: ''.join(str(x))).apply(lemmatizer.lemmatize)"
   ]
  },
  {
   "cell_type": "code",
   "execution_count": 48,
   "metadata": {},
   "outputs": [
    {
     "data": {
      "text/html": [
       "<div>\n",
       "<style scoped>\n",
       "    .dataframe tbody tr th:only-of-type {\n",
       "        vertical-align: middle;\n",
       "    }\n",
       "\n",
       "    .dataframe tbody tr th {\n",
       "        vertical-align: top;\n",
       "    }\n",
       "\n",
       "    .dataframe thead th {\n",
       "        text-align: right;\n",
       "    }\n",
       "</style>\n",
       "<table border=\"1\" class=\"dataframe\">\n",
       "  <thead>\n",
       "    <tr style=\"text-align: right;\">\n",
       "      <th></th>\n",
       "      <th>author</th>\n",
       "      <th>text</th>\n",
       "      <th>created</th>\n",
       "      <th>subreddit</th>\n",
       "      <th>text_tokenized</th>\n",
       "      <th>text_lemmatized</th>\n",
       "    </tr>\n",
       "  </thead>\n",
       "  <tbody>\n",
       "    <tr>\n",
       "      <th>0</th>\n",
       "      <td>jeremyparnaby</td>\n",
       "      <td>Grealish should be joining within the week: Ka...</td>\n",
       "      <td>2021-07-24 22:34:33</td>\n",
       "      <td>1</td>\n",
       "      <td>[Grealish, should, be, joining, within, the, w...</td>\n",
       "      <td>['Grealish', 'should', 'be', 'joining', 'withi...</td>\n",
       "    </tr>\n",
       "    <tr>\n",
       "      <th>1</th>\n",
       "      <td>UneducatedSlob</td>\n",
       "      <td>How many of them can you name?:</td>\n",
       "      <td>2021-07-24 18:58:06</td>\n",
       "      <td>1</td>\n",
       "      <td>[How, many, of, them, can, you, name]</td>\n",
       "      <td>['How', 'many', 'of', 'them', 'can', 'you', 'n...</td>\n",
       "    </tr>\n",
       "    <tr>\n",
       "      <th>2</th>\n",
       "      <td>_conjohn</td>\n",
       "      <td>Awww shit, here we go again: [Nick Harris] Whe...</td>\n",
       "      <td>2021-07-24 18:34:04</td>\n",
       "      <td>1</td>\n",
       "      <td>[Awww, shit, here, we, go, again, Nick, Harris...</td>\n",
       "      <td>['Awww', 'shit', 'here', 'we', 'go', 'again', ...</td>\n",
       "    </tr>\n",
       "    <tr>\n",
       "      <th>3</th>\n",
       "      <td>AutoModerator</td>\n",
       "      <td>[Daily Discussion] Saturday 24 July 2021: This...</td>\n",
       "      <td>2021-07-24 17:00:14</td>\n",
       "      <td>1</td>\n",
       "      <td>[Daily, Discussion, Saturday, 24, July, 2021, ...</td>\n",
       "      <td>['Daily', 'Discussion', 'Saturday', '24', 'Jul...</td>\n",
       "    </tr>\n",
       "    <tr>\n",
       "      <th>4</th>\n",
       "      <td>tquad24</td>\n",
       "      <td>On this day 10 years ago:</td>\n",
       "      <td>2021-07-24 14:49:55</td>\n",
       "      <td>1</td>\n",
       "      <td>[On, this, day, 10, years, ago]</td>\n",
       "      <td>['On', 'this', 'day', '10', 'years', 'ago']</td>\n",
       "    </tr>\n",
       "  </tbody>\n",
       "</table>\n",
       "</div>"
      ],
      "text/plain": [
       "           author                                               text  \\\n",
       "0   jeremyparnaby  Grealish should be joining within the week: Ka...   \n",
       "1  UneducatedSlob                   How many of them can you name?:    \n",
       "2        _conjohn  Awww shit, here we go again: [Nick Harris] Whe...   \n",
       "3   AutoModerator  [Daily Discussion] Saturday 24 July 2021: This...   \n",
       "4         tquad24                         On this day 10 years ago:    \n",
       "\n",
       "              created  subreddit  \\\n",
       "0 2021-07-24 22:34:33          1   \n",
       "1 2021-07-24 18:58:06          1   \n",
       "2 2021-07-24 18:34:04          1   \n",
       "3 2021-07-24 17:00:14          1   \n",
       "4 2021-07-24 14:49:55          1   \n",
       "\n",
       "                                      text_tokenized  \\\n",
       "0  [Grealish, should, be, joining, within, the, w...   \n",
       "1              [How, many, of, them, can, you, name]   \n",
       "2  [Awww, shit, here, we, go, again, Nick, Harris...   \n",
       "3  [Daily, Discussion, Saturday, 24, July, 2021, ...   \n",
       "4                    [On, this, day, 10, years, ago]   \n",
       "\n",
       "                                     text_lemmatized  \n",
       "0  ['Grealish', 'should', 'be', 'joining', 'withi...  \n",
       "1  ['How', 'many', 'of', 'them', 'can', 'you', 'n...  \n",
       "2  ['Awww', 'shit', 'here', 'we', 'go', 'again', ...  \n",
       "3  ['Daily', 'Discussion', 'Saturday', '24', 'Jul...  \n",
       "4        ['On', 'this', 'day', '10', 'years', 'ago']  "
      ]
     },
     "execution_count": 48,
     "metadata": {},
     "output_type": "execute_result"
    }
   ],
   "source": [
    "submissions.head()"
   ]
  },
  {
   "cell_type": "markdown",
   "metadata": {},
   "source": [
    "##### Count Vectorize the lemmatized text"
   ]
  },
  {
   "cell_type": "code",
   "execution_count": 49,
   "metadata": {},
   "outputs": [],
   "source": [
    "# Instantiate CountVectorizer object for reddevils\n",
    "cvec_1 = CountVectorizer(stop_words='english')"
   ]
  },
  {
   "cell_type": "code",
   "execution_count": 50,
   "metadata": {},
   "outputs": [],
   "source": [
    "submissions_reddevils = submissions[submissions['subreddit'] == 0]\n",
    "X = submissions_reddevils['text_lemmatized'].apply(lambda x: ''.join(str(x)))"
   ]
  },
  {
   "cell_type": "code",
   "execution_count": 51,
   "metadata": {},
   "outputs": [
    {
     "data": {
      "text/plain": [
       "CountVectorizer(stop_words='english')"
      ]
     },
     "execution_count": 51,
     "metadata": {},
     "output_type": "execute_result"
    }
   ],
   "source": [
    "cvec_1.fit(X)"
   ]
  },
  {
   "cell_type": "code",
   "execution_count": 52,
   "metadata": {},
   "outputs": [],
   "source": [
    "X = cvec_1.transform(X)"
   ]
  },
  {
   "cell_type": "code",
   "execution_count": 53,
   "metadata": {},
   "outputs": [
    {
     "data": {
      "image/png": "[encoded data removed]",
      "text/plain": [
       "<Figure size 432x288 with 1 Axes>"
      ]
     },
     "metadata": {
      "needs_background": "light"
     },
     "output_type": "display_data"
    }
   ],
   "source": [
    "transformed_df = pd.DataFrame(X.todense(), columns = cvec_1.get_feature_names())\n",
    "\n",
    "plt.figsize=(30,30)\n",
    "plt.xlabel('# Word Counts')\n",
    "plt.ylabel('Words')\n",
    "plt.title('Frequency of Top 25 Most Frequently Seen Words in Reddevils Subreddit - Count Vectorizer')\n",
    "transformed_df.sum().sort_values(ascending=False).head(25).plot(kind='barh');"
   ]
  },
  {
   "cell_type": "code",
   "execution_count": 54,
   "metadata": {},
   "outputs": [],
   "source": [
    "top_25_words_reddevils_cvec = transformed_df.sum().sort_values(ascending=False)[0:25]\n",
    "top_25_words_reddevils_cveclist = list(pd.DataFrame(top_25_words_reddevils_cvec).index.values)"
   ]
  },
  {
   "cell_type": "code",
   "execution_count": 55,
   "metadata": {},
   "outputs": [],
   "source": [
    "# Instantiate CountVectorizer object for mcfc\n",
    "cvec_2 = CountVectorizer(stop_words='english')"
   ]
  },
  {
   "cell_type": "code",
   "execution_count": 56,
   "metadata": {},
   "outputs": [],
   "source": [
    "submissions_mcfc = submissions[submissions['subreddit'] == 1]\n",
    "X = submissions_mcfc['text_lemmatized'].apply(lambda x: ''.join(str(x)))"
   ]
  },
  {
   "cell_type": "code",
   "execution_count": 57,
   "metadata": {},
   "outputs": [
    {
     "data": {
      "text/plain": [
       "CountVectorizer(stop_words='english')"
      ]
     },
     "execution_count": 57,
     "metadata": {},
     "output_type": "execute_result"
    }
   ],
   "source": [
    "cvec_2.fit(X)"
   ]
  },
  {
   "cell_type": "code",
   "execution_count": 58,
   "metadata": {},
   "outputs": [],
   "source": [
    "X = cvec_2.transform(X)"
   ]
  },
  {
   "cell_type": "code",
   "execution_count": 59,
   "metadata": {},
   "outputs": [
    {
     "data": {
      "image/png": "[encoded data removed]",
      "text/plain": [
       "<Figure size 432x288 with 1 Axes>"
      ]
     },
     "metadata": {
      "needs_background": "light"
     },
     "output_type": "display_data"
    }
   ],
   "source": [
    "transformed_df = pd.DataFrame(X.todense(), columns = cvec_2.get_feature_names())\n",
    "\n",
    "plt.figsize=(30,30)\n",
    "plt.xlabel('# Word Counts')\n",
    "plt.ylabel('Words')\n",
    "plt.title('Frequency of Top 25 Most Frequently Seen Words in MCFC Subreddit - Count Vectorizer')\n",
    "transformed_df.sum().sort_values(ascending=False).head(25).plot(kind='barh');"
   ]
  },
  {
   "cell_type": "code",
   "execution_count": 60,
   "metadata": {},
   "outputs": [],
   "source": [
    "top_25_words_mcfc_cvec = transformed_df.sum().sort_values(ascending=False)[0:25]\n",
    "top_25_words_mcfc_cveclist = list(pd.DataFrame(top_25_words_mcfc_cvec).index.values)"
   ]
  },
  {
   "cell_type": "code",
   "execution_count": 61,
   "metadata": {},
   "outputs": [],
   "source": [
    "reddevils_unique_words_in_top_25_cvec = []\n",
    "mcfc_unique_words_in_top_25_cvec = []\n",
    "\n",
    "for k in top_25_words_reddevils_cveclist:\n",
    "    if k not in top_25_words_mcfc_cveclist:\n",
    "        reddevils_unique_words_in_top_25_cvec.append(k)\n",
    "\n",
    "for j in top_25_words_mcfc_cveclist:\n",
    "    if j not in top_25_words_reddevils_cveclist:\n",
    "        mcfc_unique_words_in_top_25_cvec.append(j)"
   ]
  },
  {
   "cell_type": "code",
   "execution_count": 62,
   "metadata": {},
   "outputs": [
    {
     "data": {
      "text/plain": [
       "['united', 'amp', 'utd', 'ole', 'bruno', 'rashford', 'x200b', 'pogba', 'want']"
      ]
     },
     "execution_count": 62,
     "metadata": {},
     "output_type": "execute_result"
    }
   ],
   "source": [
    "reddevils_unique_words_in_top_25_cvec"
   ]
  },
  {
   "cell_type": "code",
   "execution_count": 63,
   "metadata": {},
   "outputs": [
    {
     "data": {
      "text/plain": [
       "['city',\n",
       " 'pep',\n",
       " 'think',\n",
       " 'aguero',\n",
       " 'sterling',\n",
       " 'thread',\n",
       " 'guardiola',\n",
       " 'silva',\n",
       " 'play']"
      ]
     },
     "execution_count": 63,
     "metadata": {},
     "output_type": "execute_result"
    }
   ],
   "source": [
    "mcfc_unique_words_in_top_25_cvec"
   ]
  },
  {
   "cell_type": "code",
   "execution_count": 64,
   "metadata": {},
   "outputs": [],
   "source": [
    "# Instantiate CountVectorizer object for full dataframe\n",
    "cvec_3 = CountVectorizer(stop_words='english')"
   ]
  },
  {
   "cell_type": "code",
   "execution_count": 65,
   "metadata": {},
   "outputs": [],
   "source": [
    "X = submissions['text_lemmatized'].apply(lambda x: ''.join(str(x)))"
   ]
  },
  {
   "cell_type": "code",
   "execution_count": 66,
   "metadata": {},
   "outputs": [
    {
     "data": {
      "text/plain": [
       "CountVectorizer(stop_words='english')"
      ]
     },
     "execution_count": 66,
     "metadata": {},
     "output_type": "execute_result"
    }
   ],
   "source": [
    "cvec_3.fit(X)"
   ]
  },
  {
   "cell_type": "code",
   "execution_count": 67,
   "metadata": {},
   "outputs": [],
   "source": [
    "X = cvec_3.transform(X)"
   ]
  },
  {
   "cell_type": "code",
   "execution_count": 68,
   "metadata": {},
   "outputs": [
    {
     "data": {
      "image/png": "[encoded data removed]",
      "text/plain": [
       "<Figure size 432x288 with 1 Axes>"
      ]
     },
     "metadata": {
      "needs_background": "light"
     },
     "output_type": "display_data"
    }
   ],
   "source": [
    "transformed_df = pd.DataFrame(X.todense(), columns = cvec_3.get_feature_names())\n",
    "\n",
    "plt.figsize=(30,30)\n",
    "plt.xlabel('# Word Counts')\n",
    "plt.ylabel('Words')\n",
    "plt.title('Frequency of Top 25 Most Frequently Seen Words in All Posts - Count Vectorizer')\n",
    "transformed_df.sum().sort_values(ascending=False).head(25).plot(kind='barh');"
   ]
  },
  {
   "cell_type": "code",
   "execution_count": 69,
   "metadata": {},
   "outputs": [
    {
     "data": {
      "text/plain": [
       "['united',\n",
       " 'manchester',\n",
       " 'league',\n",
       " 'man',\n",
       " 'season',\n",
       " 'amp',\n",
       " 'club',\n",
       " 'game',\n",
       " 'vs',\n",
       " 'team',\n",
       " 'time',\n",
       " 'like',\n",
       " 'players',\n",
       " 'utd',\n",
       " 'player',\n",
       " 'ole',\n",
       " 'bruno',\n",
       " 'rashford',\n",
       " 'x200b',\n",
       " 'just',\n",
       " 'pogba',\n",
       " 'want',\n",
       " 'match',\n",
       " 'goal',\n",
       " 'premier']"
      ]
     },
     "execution_count": 69,
     "metadata": {},
     "output_type": "execute_result"
    }
   ],
   "source": [
    "top_25_words_reddevils_cveclist"
   ]
  },
  {
   "cell_type": "code",
   "execution_count": 70,
   "metadata": {},
   "outputs": [
    {
     "data": {
      "text/plain": [
       "['city',\n",
       " 'manchester',\n",
       " 'league',\n",
       " 'season',\n",
       " 'man',\n",
       " 'pep',\n",
       " 'match',\n",
       " 'game',\n",
       " 'just',\n",
       " 'team',\n",
       " 'vs',\n",
       " 'like',\n",
       " 'time',\n",
       " 'think',\n",
       " 'goal',\n",
       " 'players',\n",
       " 'aguero',\n",
       " 'sterling',\n",
       " 'thread',\n",
       " 'player',\n",
       " 'premier',\n",
       " 'club',\n",
       " 'guardiola',\n",
       " 'silva',\n",
       " 'play']"
      ]
     },
     "execution_count": 70,
     "metadata": {},
     "output_type": "execute_result"
    }
   ],
   "source": [
    "top_25_words_mcfc_cveclist"
   ]
  },
  {
   "cell_type": "code",
   "execution_count": 71,
   "metadata": {},
   "outputs": [
    {
     "data": {
      "text/plain": [
       "['city',\n",
       " 'united',\n",
       " 'manchester',\n",
       " 'league',\n",
       " 'season',\n",
       " 'man',\n",
       " 'game',\n",
       " 'team',\n",
       " 'vs',\n",
       " 'match',\n",
       " 'just',\n",
       " 'club',\n",
       " 'like',\n",
       " 'time',\n",
       " 'amp',\n",
       " 'players',\n",
       " 'player',\n",
       " 'goal',\n",
       " 'think',\n",
       " 'premier',\n",
       " 'thread',\n",
       " 'pep',\n",
       " 'good',\n",
       " 'play',\n",
       " 'goals']"
      ]
     },
     "execution_count": 71,
     "metadata": {},
     "output_type": "execute_result"
    }
   ],
   "source": [
    "top_25_words_all_cvec = transformed_df.sum().sort_values(ascending=False)[0:25]\n",
    "top_25_words_all_cveclist = list(pd.DataFrame(top_25_words_all_cvec).index.values)\n",
    "top_25_words_all_cveclist"
   ]
  },
  {
   "cell_type": "markdown",
   "metadata": {},
   "source": [
    "##### Term Frequency-Inverse Document Frequency (TF-IDF) Vectorize the Lemmatized text"
   ]
  },
  {
   "cell_type": "code",
   "execution_count": 72,
   "metadata": {},
   "outputs": [],
   "source": [
    "# Instantiate TFIDF Vectorizer object for reddevils\n",
    "tvec_1 = TfidfVectorizer(stop_words='english')"
   ]
  },
  {
   "cell_type": "code",
   "execution_count": 73,
   "metadata": {},
   "outputs": [],
   "source": [
    "submissions_reddevils = submissions[submissions['subreddit'] == 0]\n",
    "X = submissions_reddevils['text_lemmatized'].apply(lambda x: ''.join(str(x)))"
   ]
  },
  {
   "cell_type": "code",
   "execution_count": 74,
   "metadata": {},
   "outputs": [
    {
     "data": {
      "text/plain": [
       "TfidfVectorizer(stop_words='english')"
      ]
     },
     "execution_count": 74,
     "metadata": {},
     "output_type": "execute_result"
    }
   ],
   "source": [
    "tvec_1.fit(X)"
   ]
  },
  {
   "cell_type": "code",
   "execution_count": 75,
   "metadata": {},
   "outputs": [],
   "source": [
    "X = tvec_1.transform(X)"
   ]
  },
  {
   "cell_type": "code",
   "execution_count": 76,
   "metadata": {},
   "outputs": [
    {
     "data": {
      "image/png": "[encoded data removed]",
      "text/plain": [
       "<Figure size 432x288 with 1 Axes>"
      ]
     },
     "metadata": {
      "needs_background": "light"
     },
     "output_type": "display_data"
    }
   ],
   "source": [
    "transformed_df = pd.DataFrame(X.todense(), columns = tvec_1.get_feature_names())\n",
    "\n",
    "plt.figsize=(30,30)\n",
    "plt.xlabel('# Word Counts')\n",
    "plt.ylabel('Words')\n",
    "plt.title('Frequency of Top 25 Most Frequently Seen Words in Reddevils Subreddit - TFIDF Vectorizer')\n",
    "transformed_df.sum().sort_values(ascending=False).head(25).plot(kind='barh');"
   ]
  },
  {
   "cell_type": "code",
   "execution_count": 77,
   "metadata": {},
   "outputs": [],
   "source": [
    "top_25_words_reddevils_tvec = transformed_df.sum().sort_values(ascending=False)[0:25]\n",
    "top_25_words_reddevils_tveclist = list(pd.DataFrame(top_25_words_reddevils_tvec).index.values)"
   ]
  },
  {
   "cell_type": "code",
   "execution_count": 78,
   "metadata": {},
   "outputs": [],
   "source": [
    "# Instantiate TFIDF Vectorizer object for mcfc\n",
    "tvec_2 = TfidfVectorizer(stop_words='english')"
   ]
  },
  {
   "cell_type": "code",
   "execution_count": 79,
   "metadata": {},
   "outputs": [],
   "source": [
    "submissions_mcfc = submissions[submissions['subreddit'] == 1]\n",
    "X = submissions_mcfc['text_lemmatized'].apply(lambda x: ''.join(str(x)))"
   ]
  },
  {
   "cell_type": "code",
   "execution_count": 80,
   "metadata": {},
   "outputs": [
    {
     "data": {
      "text/plain": [
       "TfidfVectorizer(stop_words='english')"
      ]
     },
     "execution_count": 80,
     "metadata": {},
     "output_type": "execute_result"
    }
   ],
   "source": [
    "tvec_2.fit(X)"
   ]
  },
  {
   "cell_type": "code",
   "execution_count": 81,
   "metadata": {},
   "outputs": [],
   "source": [
    "X = tvec_2.transform(X)"
   ]
  },
  {
   "cell_type": "code",
   "execution_count": 82,
   "metadata": {},
   "outputs": [
    {
     "data": {
      "image/png": "[encoded data removed]",
      "text/plain": [
       "<Figure size 432x288 with 1 Axes>"
      ]
     },
     "metadata": {
      "needs_background": "light"
     },
     "output_type": "display_data"
    }
   ],
   "source": [
    "transformed_df = pd.DataFrame(X.todense(), columns = tvec_2.get_feature_names())\n",
    "\n",
    "plt.figsize=(30,30)\n",
    "plt.xlabel('# Word Counts')\n",
    "plt.ylabel('Words')\n",
    "plt.title('Frequency of Top 25 Most Frequently Seen Words in MCFC Subreddit -TFIDF Vectorizer')\n",
    "transformed_df.sum().sort_values(ascending=False).head(25).plot(kind='barh');"
   ]
  },
  {
   "cell_type": "code",
   "execution_count": 83,
   "metadata": {},
   "outputs": [],
   "source": [
    "top_25_words_mcfc_tvec = transformed_df.sum().sort_values(ascending=False)[0:25]\n",
    "top_25_words_mcfc_tveclist = list(pd.DataFrame(top_25_words_mcfc_tvec).index.values)"
   ]
  },
  {
   "cell_type": "code",
   "execution_count": 84,
   "metadata": {},
   "outputs": [],
   "source": [
    "reddevils_unique_words_in_top_25_tvec = []\n",
    "mcfc_unique_words_in_top_25_tvec = []\n",
    "\n",
    "for k in top_25_words_reddevils_tveclist:\n",
    "    if k not in top_25_words_mcfc_tveclist:\n",
    "        reddevils_unique_words_in_top_25_tvec.append(k)\n",
    "\n",
    "for j in top_25_words_mcfc_tveclist:\n",
    "    if j not in top_25_words_reddevils_tveclist:\n",
    "        mcfc_unique_words_in_top_25_tvec.append(j)"
   ]
  },
  {
   "cell_type": "code",
   "execution_count": 85,
   "metadata": {},
   "outputs": [
    {
     "data": {
      "text/plain": [
       "['bruno',\n",
       " 'utd',\n",
       " 'rashford',\n",
       " 'ole',\n",
       " 'pogba',\n",
       " 'fernandes',\n",
       " 'mufc',\n",
       " 'amp',\n",
       " 'time',\n",
       " 'sancho',\n",
       " 'club',\n",
       " 'solskjaer']"
      ]
     },
     "execution_count": 85,
     "metadata": {},
     "output_type": "execute_result"
    }
   ],
   "source": [
    "reddevils_unique_words_in_top_25_tvec"
   ]
  },
  {
   "cell_type": "code",
   "execution_count": 86,
   "metadata": {},
   "outputs": [
    {
     "data": {
      "text/plain": [
       "['city',\n",
       " 'pep',\n",
       " 'guardiola',\n",
       " 'aguero',\n",
       " 'just',\n",
       " 'post',\n",
       " 'sterling',\n",
       " 'think',\n",
       " 'like',\n",
       " 'silva',\n",
       " 'liverpool',\n",
       " 'new']"
      ]
     },
     "execution_count": 86,
     "metadata": {},
     "output_type": "execute_result"
    }
   ],
   "source": [
    "mcfc_unique_words_in_top_25_tvec"
   ]
  },
  {
   "cell_type": "code",
   "execution_count": 87,
   "metadata": {},
   "outputs": [],
   "source": [
    "# Instantiate TFIDF Vectorizer object for reddevils\n",
    "tvec_3 = TfidfVectorizer(stop_words='english')"
   ]
  },
  {
   "cell_type": "code",
   "execution_count": 88,
   "metadata": {},
   "outputs": [],
   "source": [
    "X = submissions['text_lemmatized'].apply(lambda x: ''.join(str(x)))"
   ]
  },
  {
   "cell_type": "code",
   "execution_count": 89,
   "metadata": {},
   "outputs": [
    {
     "data": {
      "text/plain": [
       "TfidfVectorizer(stop_words='english')"
      ]
     },
     "execution_count": 89,
     "metadata": {},
     "output_type": "execute_result"
    }
   ],
   "source": [
    "tvec_3.fit(X)"
   ]
  },
  {
   "cell_type": "code",
   "execution_count": 90,
   "metadata": {},
   "outputs": [],
   "source": [
    "X = tvec_3.transform(X)"
   ]
  },
  {
   "cell_type": "code",
   "execution_count": 91,
   "metadata": {},
   "outputs": [
    {
     "data": {
      "image/png": "[encoded data removed]",
      "text/plain": [
       "<Figure size 432x288 with 1 Axes>"
      ]
     },
     "metadata": {
      "needs_background": "light"
     },
     "output_type": "display_data"
    }
   ],
   "source": [
    "transformed_df = pd.DataFrame(X.todense(), columns = tvec_3.get_feature_names())\n",
    "\n",
    "plt.figsize=(30,30)\n",
    "plt.xlabel('# Word Counts')\n",
    "plt.ylabel('Words')\n",
    "plt.title('Frequency of Top 25 Most Frequently Seen Words in All Posts - TFIDF Vectorizer')\n",
    "transformed_df.sum().sort_values(ascending=False).head(25).plot(kind='barh');"
   ]
  },
  {
   "cell_type": "code",
   "execution_count": 92,
   "metadata": {},
   "outputs": [
    {
     "data": {
      "text/plain": [
       "['united',\n",
       " 'manchester',\n",
       " 'man',\n",
       " 'league',\n",
       " 'bruno',\n",
       " 'utd',\n",
       " 'vs',\n",
       " 'season',\n",
       " 'rashford',\n",
       " 'ole',\n",
       " 'pogba',\n",
       " 'fernandes',\n",
       " 'match',\n",
       " 'mufc',\n",
       " 'premier',\n",
       " 'amp',\n",
       " 'time',\n",
       " 'game',\n",
       " 'sancho',\n",
       " 'player',\n",
       " 'club',\n",
       " 'goal',\n",
       " 'team',\n",
       " 'solskjaer',\n",
       " 'thread']"
      ]
     },
     "execution_count": 92,
     "metadata": {},
     "output_type": "execute_result"
    }
   ],
   "source": [
    "top_25_words_reddevils_tveclist"
   ]
  },
  {
   "cell_type": "code",
   "execution_count": 93,
   "metadata": {},
   "outputs": [
    {
     "data": {
      "text/plain": [
       "['city',\n",
       " 'manchester',\n",
       " 'man',\n",
       " 'league',\n",
       " 'pep',\n",
       " 'vs',\n",
       " 'match',\n",
       " 'season',\n",
       " 'game',\n",
       " 'guardiola',\n",
       " 'aguero',\n",
       " 'just',\n",
       " 'post',\n",
       " 'sterling',\n",
       " 'team',\n",
       " 'premier',\n",
       " 'thread',\n",
       " 'think',\n",
       " 'goal',\n",
       " 'like',\n",
       " 'silva',\n",
       " 'player',\n",
       " 'liverpool',\n",
       " 'new',\n",
       " 'united']"
      ]
     },
     "execution_count": 93,
     "metadata": {},
     "output_type": "execute_result"
    }
   ],
   "source": [
    "top_25_words_mcfc_tveclist"
   ]
  },
  {
   "cell_type": "code",
   "execution_count": 94,
   "metadata": {},
   "outputs": [
    {
     "data": {
      "text/plain": [
       "['city',\n",
       " 'manchester',\n",
       " 'united',\n",
       " 'man',\n",
       " 'league',\n",
       " 'vs',\n",
       " 'season',\n",
       " 'match',\n",
       " 'game',\n",
       " 'pep',\n",
       " 'premier',\n",
       " 'team',\n",
       " 'just',\n",
       " 'goal',\n",
       " 'player',\n",
       " 'time',\n",
       " 'post',\n",
       " 'bruno',\n",
       " 'thread',\n",
       " 'utd',\n",
       " 'amp',\n",
       " 'like',\n",
       " 'club',\n",
       " 'think',\n",
       " 'players']"
      ]
     },
     "execution_count": 94,
     "metadata": {},
     "output_type": "execute_result"
    }
   ],
   "source": [
    "top_25_words_all_tveclist = list(pd.DataFrame(transformed_df.sum().sort_values(ascending=False).head(25)).index.values)\n",
    "top_25_words_all_tveclist"
   ]
  },
  {
   "cell_type": "markdown",
   "metadata": {},
   "source": [
    "##### Sentiment Analysis"
   ]
  },
  {
   "cell_type": "code",
   "execution_count": 95,
   "metadata": {},
   "outputs": [],
   "source": [
    "# Instantiate Sentiment Intensity Analyzer\n",
    "sentiment = SentimentIntensityAnalyzer()"
   ]
  },
  {
   "cell_type": "code",
   "execution_count": 96,
   "metadata": {},
   "outputs": [],
   "source": [
    "# Creating a column for sentiment\n",
    "submissions['sentiment'] = submissions['text_lemmatized'].apply(sentiment.polarity_scores)"
   ]
  },
  {
   "cell_type": "code",
   "execution_count": 97,
   "metadata": {},
   "outputs": [
    {
     "data": {
      "text/html": [
       "<div>\n",
       "<style scoped>\n",
       "    .dataframe tbody tr th:only-of-type {\n",
       "        vertical-align: middle;\n",
       "    }\n",
       "\n",
       "    .dataframe tbody tr th {\n",
       "        vertical-align: top;\n",
       "    }\n",
       "\n",
       "    .dataframe thead th {\n",
       "        text-align: right;\n",
       "    }\n",
       "</style>\n",
       "<table border=\"1\" class=\"dataframe\">\n",
       "  <thead>\n",
       "    <tr style=\"text-align: right;\">\n",
       "      <th></th>\n",
       "      <th>author</th>\n",
       "      <th>text</th>\n",
       "      <th>created</th>\n",
       "      <th>subreddit</th>\n",
       "      <th>text_tokenized</th>\n",
       "      <th>text_lemmatized</th>\n",
       "      <th>sentiment</th>\n",
       "    </tr>\n",
       "  </thead>\n",
       "  <tbody>\n",
       "    <tr>\n",
       "      <th>0</th>\n",
       "      <td>jeremyparnaby</td>\n",
       "      <td>Grealish should be joining within the week: Ka...</td>\n",
       "      <td>2021-07-24 22:34:33</td>\n",
       "      <td>1</td>\n",
       "      <td>[Grealish, should, be, joining, within, the, w...</td>\n",
       "      <td>['Grealish', 'should', 'be', 'joining', 'withi...</td>\n",
       "      <td>{'neg': 0.0, 'neu': 1.0, 'pos': 0.0, 'compound...</td>\n",
       "    </tr>\n",
       "    <tr>\n",
       "      <th>1</th>\n",
       "      <td>UneducatedSlob</td>\n",
       "      <td>How many of them can you name?:</td>\n",
       "      <td>2021-07-24 18:58:06</td>\n",
       "      <td>1</td>\n",
       "      <td>[How, many, of, them, can, you, name]</td>\n",
       "      <td>['How', 'many', 'of', 'them', 'can', 'you', 'n...</td>\n",
       "      <td>{'neg': 0.0, 'neu': 1.0, 'pos': 0.0, 'compound...</td>\n",
       "    </tr>\n",
       "    <tr>\n",
       "      <th>2</th>\n",
       "      <td>_conjohn</td>\n",
       "      <td>Awww shit, here we go again: [Nick Harris] Whe...</td>\n",
       "      <td>2021-07-24 18:34:04</td>\n",
       "      <td>1</td>\n",
       "      <td>[Awww, shit, here, we, go, again, Nick, Harris...</td>\n",
       "      <td>['Awww', 'shit', 'here', 'we', 'go', 'again', ...</td>\n",
       "      <td>{'neg': 0.0, 'neu': 1.0, 'pos': 0.0, 'compound...</td>\n",
       "    </tr>\n",
       "    <tr>\n",
       "      <th>3</th>\n",
       "      <td>AutoModerator</td>\n",
       "      <td>[Daily Discussion] Saturday 24 July 2021: This...</td>\n",
       "      <td>2021-07-24 17:00:14</td>\n",
       "      <td>1</td>\n",
       "      <td>[Daily, Discussion, Saturday, 24, July, 2021, ...</td>\n",
       "      <td>['Daily', 'Discussion', 'Saturday', '24', 'Jul...</td>\n",
       "      <td>{'neg': 0.0, 'neu': 1.0, 'pos': 0.0, 'compound...</td>\n",
       "    </tr>\n",
       "    <tr>\n",
       "      <th>4</th>\n",
       "      <td>tquad24</td>\n",
       "      <td>On this day 10 years ago:</td>\n",
       "      <td>2021-07-24 14:49:55</td>\n",
       "      <td>1</td>\n",
       "      <td>[On, this, day, 10, years, ago]</td>\n",
       "      <td>['On', 'this', 'day', '10', 'years', 'ago']</td>\n",
       "      <td>{'neg': 0.0, 'neu': 1.0, 'pos': 0.0, 'compound...</td>\n",
       "    </tr>\n",
       "  </tbody>\n",
       "</table>\n",
       "</div>"
      ],
      "text/plain": [
       "           author                                               text  \\\n",
       "0   jeremyparnaby  Grealish should be joining within the week: Ka...   \n",
       "1  UneducatedSlob                   How many of them can you name?:    \n",
       "2        _conjohn  Awww shit, here we go again: [Nick Harris] Whe...   \n",
       "3   AutoModerator  [Daily Discussion] Saturday 24 July 2021: This...   \n",
       "4         tquad24                         On this day 10 years ago:    \n",
       "\n",
       "              created  subreddit  \\\n",
       "0 2021-07-24 22:34:33          1   \n",
       "1 2021-07-24 18:58:06          1   \n",
       "2 2021-07-24 18:34:04          1   \n",
       "3 2021-07-24 17:00:14          1   \n",
       "4 2021-07-24 14:49:55          1   \n",
       "\n",
       "                                      text_tokenized  \\\n",
       "0  [Grealish, should, be, joining, within, the, w...   \n",
       "1              [How, many, of, them, can, you, name]   \n",
       "2  [Awww, shit, here, we, go, again, Nick, Harris...   \n",
       "3  [Daily, Discussion, Saturday, 24, July, 2021, ...   \n",
       "4                    [On, this, day, 10, years, ago]   \n",
       "\n",
       "                                     text_lemmatized  \\\n",
       "0  ['Grealish', 'should', 'be', 'joining', 'withi...   \n",
       "1  ['How', 'many', 'of', 'them', 'can', 'you', 'n...   \n",
       "2  ['Awww', 'shit', 'here', 'we', 'go', 'again', ...   \n",
       "3  ['Daily', 'Discussion', 'Saturday', '24', 'Jul...   \n",
       "4        ['On', 'this', 'day', '10', 'years', 'ago']   \n",
       "\n",
       "                                           sentiment  \n",
       "0  {'neg': 0.0, 'neu': 1.0, 'pos': 0.0, 'compound...  \n",
       "1  {'neg': 0.0, 'neu': 1.0, 'pos': 0.0, 'compound...  \n",
       "2  {'neg': 0.0, 'neu': 1.0, 'pos': 0.0, 'compound...  \n",
       "3  {'neg': 0.0, 'neu': 1.0, 'pos': 0.0, 'compound...  \n",
       "4  {'neg': 0.0, 'neu': 1.0, 'pos': 0.0, 'compound...  "
      ]
     },
     "execution_count": 97,
     "metadata": {},
     "output_type": "execute_result"
    }
   ],
   "source": [
    "submissions.head()"
   ]
  },
  {
   "cell_type": "code",
   "execution_count": 98,
   "metadata": {},
   "outputs": [],
   "source": [
    "# Creating sentiment_compound column for compound score\n",
    "submissions['sentiment_compound'] = submissions['sentiment'].apply(lambda score_dict: score_dict['compound'])"
   ]
  },
  {
   "cell_type": "code",
   "execution_count": 99,
   "metadata": {},
   "outputs": [
    {
     "data": {
      "text/plain": [
       "1"
      ]
     },
     "execution_count": 99,
     "metadata": {},
     "output_type": "execute_result"
    }
   ],
   "source": [
    "# Looking at unique values\n",
    "submissions['sentiment_compound'].nunique()"
   ]
  },
  {
   "cell_type": "code",
   "execution_count": 100,
   "metadata": {},
   "outputs": [],
   "source": [
    "# What this tells me is that there are no 'negative' posts. This is a little bit unusual, but given the fact that we are dealing with\n",
    "# titles and selftext, which have been moderated for toxic/abusive posts and [deleted]/[removed] as necessary, this may not be\n",
    "# entirely unreasonable. However, given this result, I won't pursue this further."
   ]
  },
  {
   "cell_type": "code",
   "execution_count": 101,
   "metadata": {},
   "outputs": [],
   "source": [
    "submissions.to_csv('./data/submissions_model.csv')"
   ]
  }
 ],
 "metadata": {
  "kernelspec": {
   "display_name": "Python 3",
   "language": "python",
   "name": "python3"
  },
  "language_info": {
   "codemirror_mode": {
    "name": "ipython",
    "version": 3
   },
   "file_extension": ".py",
   "mimetype": "text/x-python",
   "name": "python",
   "nbconvert_exporter": "python",
   "pygments_lexer": "ipython3",
   "version": "3.8.5"
  }
 },
 "nbformat": 4,
 "nbformat_minor": 4
}
